{
  "nbformat": 4,
  "nbformat_minor": 0,
  "metadata": {
    "colab": {
      "provenance": []
    },
    "kernelspec": {
      "name": "python3",
      "display_name": "Python 3"
    },
    "language_info": {
      "name": "python"
    }
  },
  "cells": [
    {
      "cell_type": "markdown",
      "source": [
        "# Database Integration : Utilisation de PostgresHook pour exploiter les connexions et exécuter des requêtes "
      ],
      "metadata": {
        "id": "KWLU6J4WQjYf"
      }
    },
    {
      "cell_type": "markdown",
      "source": [
        "![postgres_hook](https://user-images.githubusercontent.com/123757632/231869429-b98fcf0a-4249-4a02-9a52-c48e7ba1c85a.png)"
      ],
      "metadata": {
        "id": "bucIJVkpQnJJ"
      }
    },
    {
      "cell_type": "markdown",
      "source": [
        "1 . Définir les paramètres par défaut pour le DAG à l'aide du dictionnaire default_args, qui contient le propriétaire du DAG et la date de début.\n",
        "\n"
      ],
      "metadata": {
        "id": "F1XKZI4KQu5o"
      }
    },
    {
      "cell_type": "code",
      "execution_count": null,
      "metadata": {
        "id": "x3MY3N2CQb9y"
      },
      "outputs": [],
      "source": [
        "from airflow import DAG\n",
        "from airflow.operators.python_operator import PythonOperator\n",
        "from airflow.hooks.postgres_hook import PostgresHook\n",
        "from datetime import datetime\n",
        "\n",
        "# Define the DAG\n",
        "default_args = {\n",
        "    'owner': 'airflow',\n",
        "    'start_date': datetime(2022, 1, 1)\n",
        "}"
      ]
    },
    {
      "cell_type": "markdown",
      "source": [
        "2 . Création d'un objet DAG en utilisant le nom de DAG \"postgres_hook_example\", les paramètres par défaut et une planification quotidienne."
      ],
      "metadata": {
        "id": "e9W_sCW6Q1pg"
      }
    },
    {
      "cell_type": "code",
      "source": [
        "dag = DAG(\n",
        "    'postgres_hook_example',\n",
        "    default_args=default_args,\n",
        "    schedule_interval='@daily'\n",
        ") "
      ],
      "metadata": {
        "id": "Fsti87ORQ7d6"
      },
      "execution_count": null,
      "outputs": []
    },
    {
      "cell_type": "markdown",
      "source": [
        "3 . Définition ensuite de la fonction run_query() qui se connecte à la base de données PostgreSQL à l'aide de PostgresHook et exécute une requête SQL pour sélectionner toutes les colonnes de la table \"my_test_table\". Les résultats sont ensuite imprimés à l'écran."
      ],
      "metadata": {
        "id": "CYPT2zgHRBmq"
      }
    },
    {
      "cell_type": "code",
      "source": [
        "# Define the PythonOperator\n",
        "def run_query():\n",
        "    # Create a PostgresHook\n",
        "    hook = PostgresHook(postgres_conn_id='MY_DATABASE_CONN_0')\n",
        "    \n",
        "    # Execute a query\n",
        "    \n",
        "    query = \"SELECT * FROM my_test_table\"\n",
        "    rows = hook.get_records(query)\n",
        "    for row in rows:\n",
        "            print(row)"
      ],
      "metadata": {
        "id": "_pEQWvnVRK_F"
      },
      "execution_count": null,
      "outputs": []
    },
    {
      "cell_type": "markdown",
      "source": [
        "4 . Enfin, l'objet PythonOperator avec le nom de la tâche \"run_query\", la fonction run_query() comme fonction exécutable et le DAG créé précédemment."
      ],
      "metadata": {
        "id": "0ORoCz8JRNdl"
      }
    },
    {
      "cell_type": "code",
      "source": [
        "task = PythonOperator(\n",
        "    task_id='run_query',\n",
        "    python_callable=run_query,\n",
        "    dag=dag\n",
        ")"
      ],
      "metadata": {
        "id": "_kkRx8iARXQW"
      },
      "execution_count": null,
      "outputs": []
    },
    {
      "cell_type": "markdown",
      "source": [
        "Execution du Dag :\n",
        "\n",
        "![image](https://user-images.githubusercontent.com/123757632/231874903-3e976521-2dc2-4d83-b906-281b138f26cf.png)"
      ],
      "metadata": {
        "id": "6EIR4C_oSU5c"
      }
    }
  ]
}