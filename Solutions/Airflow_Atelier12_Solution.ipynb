{
  "nbformat": 4,
  "nbformat_minor": 0,
  "metadata": {
    "colab": {
      "provenance": []
    },
    "kernelspec": {
      "name": "python3",
      "display_name": "Python 3"
    },
    "language_info": {
      "name": "python"
    }
  },
  "cells": [
    {
      "cell_type": "markdown",
      "source": [
        "# Deferrable operators :  Création de DAGs planifier en utilisant Async Operator "
      ],
      "metadata": {
        "id": "wTocnbNUzs1n"
      }
    },
    {
      "cell_type": "markdown",
      "source": [
        "![deff](https://user-images.githubusercontent.com/123757632/232047531-5cb354b1-ce74-4a95-af34-009febf1fe20.png)"
      ],
      "metadata": {
        "id": "9K4U8pDfzl-B"
      }
    },
    {
      "cell_type": "markdown",
      "source": [
        "Dag 1 : "
      ],
      "metadata": {
        "id": "IU7ZI04Q0NWn"
      }
    },
    {
      "cell_type": "code",
      "source": [
        "from pendulum import datetime\n",
        "from airflow import DAG\n",
        "from airflow.sensors.date_time import DateTimeSensor\n",
        "\n",
        "with DAG(\n",
        "    \"sync_dag_1\",\n",
        "    start_date=datetime(2023, 4, 8, 15, 30),\n",
        "    end_date=datetime(2023, 4, 8, 15, 40),\n",
        "    schedule=\"* * * * *\",\n",
        "    catchup=True,\n",
        ") as dag:"
      ],
      "metadata": {
        "id": "3qDL-FxW1Q7A"
      },
      "execution_count": null,
      "outputs": []
    },
    {
      "cell_type": "markdown",
      "source": [
        "Definir un DAG (Directed Acyclic Graph) Airflow nommé \"sync_dag_1\". Le DAG est planifié pour s'exécuter toutes les minutes, avec un horaire défini comme \"* * * * *\", ce qui signifie qu'il s'exécutera à chaque minute.\n",
        "\n",
        "Le DAG est configuré pour commencer à s'exécuter le 8 avril 2023 à 15h30 et se terminer le même jour à 15h40. Le paramètre \"catchup\" est défini sur \"True\", ce qui signifie qu'Airflow exécutera les tâches précédentes manquées (si elles existent) lors du démarrage du DAG."
      ],
      "metadata": {
        "id": "2_o4gqKw1XAi"
      }
    },
    {
      "cell_type": "code",
      "source": [
        "sync_sensor = DateTimeSensor(\n",
        "        task_id=\"sync_task\",\n",
        "        target_time=\"\"\"{{ macros.datetime.utcnow() + macros.timedelta(minutes=10) }}\"\"\",\n",
        "    )"
      ],
      "metadata": {
        "id": "eMtHT_z31hjf"
      },
      "execution_count": null,
      "outputs": []
    },
    {
      "cell_type": "markdown",
      "source": [
        "Crée une instance de la classe DateTimeSensor d'Airflow appelée \"sync_sensor\", qui est utilisée pour attendre que la cible de temps spécifiée soit atteinte avant de passer à la tâche suivante dans le DAG.\n",
        "\n",
        "Le paramètre \"task_id\" est défini sur \"sync_task\", ce qui est un identifiant unique pour la tâche.\n",
        "\n",
        "Le paramètre \"target_time\" est défini en utilisant la syntaxe Jinja, qui est une syntaxe de modèle utilisée par Airflow pour définir des valeurs dynamiques. Dans ce cas, la cible de temps est définie comme \"macros.datetime.utcnow() + macros.timedelta(minutes=10)\", qui correspond à l'heure actuelle plus 10 minutes. Cela signifie que la tâche attendra que 10 minutes se soient écoulées depuis le début de l'exécution du DAG avant de passer à la tâche suivante.\n",
        "\n",
        "En résumé, ce code crée une tâche de capteur de date et d'heure synchronisée qui attend que 10 minutes se soient écoulées avant de passer à la tâche suivante dans le DAG.\n",
        "\n",
        "\n",
        "\n"
      ],
      "metadata": {
        "id": "-sg3LP1k1k8V"
      }
    },
    {
      "cell_type": "markdown",
      "source": [
        "Execution du Dag : \n",
        "\n",
        "Sur la capture d'écran suivante, l'exécution du DAG produit 16 instances de tâches en cours d'exécution, chacune contenant un capteur de date et d'heure actif (DateTimeSensor) occupant un emplacement de travail (worker slot).\n",
        "\n",
        "![image](https://user-images.githubusercontent.com/123757632/232053526-622ec6e5-01e8-4203-8dfd-3a72b02853a9.png)\n"
      ],
      "metadata": {
        "id": "2IyJxEBU2DhA"
      }
    },
    {
      "cell_type": "markdown",
      "source": [
        "Dag 2 : "
      ],
      "metadata": {
        "id": "15-BXiW93cfk"
      }
    },
    {
      "cell_type": "code",
      "source": [
        "from pendulum import datetime\n",
        "from airflow import DAG\n",
        "from airflow.sensors.date_time import DateTimeSensorAsync\n",
        "\n",
        "with DAG(\n",
        "    \"async_dag_2\",\n",
        "    start_date=datetime(2023, 4, 8, 15, 30),\n",
        "    end_date=datetime(2023, 4, 8, 15, 40),\n",
        "    schedule=\"* * * * *\",\n",
        "    catchup=True,\n",
        ") as dag:"
      ],
      "metadata": {
        "id": "7z-CB0w33ay_"
      },
      "execution_count": null,
      "outputs": []
    },
    {
      "cell_type": "markdown",
      "source": [
        "Définir un DAG Airflow nommé \"async_dag_2\", qui est planifié pour s'exécuter toutes les minutes à l'aide de l'horaire \"* * * * *\". Le DAG commencera à s'exécuter le 8 avril 2023 à 15h30 et se terminera le même jour à 15h40.\n",
        "\n",
        "Le paramètre \"catchup\" est défini sur \"True\", ce qui signifie qu'Airflow exécutera les tâches précédentes manquées (si elles existent) lors du démarrage du DAG."
      ],
      "metadata": {
        "id": "tKdV3OfX3ewu"
      }
    },
    {
      "cell_type": "code",
      "source": [
        "async_sensor = DateTimeSensorAsync(\n",
        "        task_id=\"async_task\",\n",
        "        target_time=\"\"\"{{ macros.datetime.utcnow() + macros.timedelta(minutes=10) }}\"\"\",\n",
        "    )"
      ],
      "metadata": {
        "id": "6Anz8Wjh3fCx"
      },
      "execution_count": null,
      "outputs": []
    },
    {
      "cell_type": "markdown",
      "source": [
        "Crée une instance de la classe DateTimeSensorAsync, qui est un capteur de temps asynchrone dans la bibliothèque Airflow. Le capteur attend que le temps cible soit atteint avant de déclencher une tâche.\n",
        "\n",
        "L'instance est créée avec les arguments suivants :\n",
        "\n",
        "- task_id : une chaîne qui identifie la tâche dans le DAG.\n",
        "- target_time : une chaîne de modèles qui utilise les macros de date et d'heure d'Airflow pour définir le temps cible de ce capteur. Ici, le temps cible est défini comme \"macros.datetime.utcnow() + macros.timedelta(minutes=10)\", ce qui signifie que le capteur attendra 10 minutes à partir de l'heure actuelle avant de déclencher la tâche.\n",
        "\n",
        "Une fois la tâche déclenchée, le flux de travail pourra continuer à exécuter les autres tâches qui dépendent de cette tâche."
      ],
      "metadata": {
        "id": "m5GUBqNp3fbr"
      }
    },
    {
      "cell_type": "markdown",
      "source": [
        "Execution du Dag :\n",
        "\n",
        "\n",
        "Sur la capture d'écran suivante, toutes les tâches sont affichées dans un état différé (violet). Les tâches dans d'autres DAG peuvent utiliser les emplacements de travail disponibles, ce qui rend l'opérateur différable plus rentable et plus efficace en termes de coûts et de temps.\n",
        "\n",
        "\n",
        "![image](https://user-images.githubusercontent.com/123757632/232053153-47704f1c-77da-4bbf-850b-22b00fd34a52.png)"
      ],
      "metadata": {
        "id": "WhdM-ud94Vmh"
      }
    }
  ]
}