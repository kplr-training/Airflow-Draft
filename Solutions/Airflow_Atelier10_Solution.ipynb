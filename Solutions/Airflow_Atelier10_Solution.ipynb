{
  "nbformat": 4,
  "nbformat_minor": 0,
  "metadata": {
    "colab": {
      "provenance": []
    },
    "kernelspec": {
      "name": "python3",
      "display_name": "Python 3"
    },
    "language_info": {
      "name": "python"
    }
  },
  "cells": [
    {
      "cell_type": "markdown",
      "source": [
        "# Data Aware Scheduling : Création et consommation d'un dataset pour le data-aware\n",
        "\n"
      ],
      "metadata": {
        "id": "Re_HGHafWW25"
      }
    },
    {
      "cell_type": "markdown",
      "source": [
        "![dataaware](https://user-images.githubusercontent.com/123757632/231875385-9cf19dc7-c1fc-4b6a-8076-ed5417389188.png)"
      ],
      "metadata": {
        "id": "heEUdKpgWXWA"
      }
    },
    {
      "cell_type": "markdown",
      "source": [
        "1 . Importation des modules nécessaires "
      ],
      "metadata": {
        "id": "W2MHaVbF4Qxc"
      }
    },
    {
      "cell_type": "code",
      "execution_count": null,
      "metadata": {
        "id": "M8PgZ_-RWU5s"
      },
      "outputs": [],
      "source": [
        "from datetime import datetime, timedelta\n",
        "from airflow import DAG, Dataset\n",
        "from airflow.operators.bash_operator import BashOperator"
      ]
    },
    {
      "cell_type": "markdown",
      "source": [
        "Les modules datetime, timedelta et Dataset de la bibliothèque Airflow sont importés, ainsi que BashOperator qui permet l'exécution de commandes bash dans les tâches."
      ],
      "metadata": {
        "id": "Mwox00I5538X"
      }
    },
    {
      "cell_type": "markdown",
      "source": [
        "2 . Définition des arguments par défaut :"
      ],
      "metadata": {
        "id": "xjNRP8Jc57qY"
      }
    },
    {
      "cell_type": "code",
      "source": [
        "default_args = {\n",
        "    'owner': 'airflow',\n",
        "    'depends_on_past': False    \n",
        "}"
      ],
      "metadata": {
        "id": "XQvwVwrG54WF"
      },
      "execution_count": null,
      "outputs": []
    },
    {
      "cell_type": "markdown",
      "source": [
        "Le dictionnaire default_args est défini pour spécifier les arguments par défaut pour les deux DAGs qui vont suivre. Dans cet exemple, seul l'argument owner est défini pour identifier l'utilisateur responsable des DAGs."
      ],
      "metadata": {
        "id": "OnZ9JDpv5_4S"
      }
    },
    {
      "cell_type": "markdown",
      "source": [
        "3 . Définition d'un Dataset :"
      ],
      "metadata": {
        "id": "GqIZ48gt6C_i"
      }
    },
    {
      "cell_type": "code",
      "source": [
        "my_dataset = Dataset('/tmp/data.csv')"
      ],
      "metadata": {
        "id": "QLGjJmYs6Ft6"
      },
      "execution_count": null,
      "outputs": []
    },
    {
      "cell_type": "markdown",
      "source": [
        "Un objet my_dataset est défini pour représenter le fichier de données data.csv. Le chemin du fichier est spécifié en tant qu'argument pour l'objet Dataset."
      ],
      "metadata": {
        "id": "-yQ8Vhf26Hkg"
      }
    },
    {
      "cell_type": "markdown",
      "source": [
        "4 . Définition du premier DAG :"
      ],
      "metadata": {
        "id": "z3UKDbgy6Ji3"
      }
    },
    {
      "cell_type": "code",
      "source": [
        "with DAG(dag_id='producer_aware', \n",
        "        start_date = datetime.now(),\n",
        "        schedule_interval = timedelta(minutes=5),\n",
        "        default_args=default_args) as dag:"
      ],
      "metadata": {
        "id": "1qe6Y-Ag6MT7"
      },
      "execution_count": null,
      "outputs": []
    },
    {
      "cell_type": "markdown",
      "source": [
        "Le premier DAG est défini à l'aide de l'instruction with DAG(). Le DAG est nommé producer_aware, la date et l'heure de début sont spécifiées avec start_date, et l'exécution est planifiée toutes les cinq minutes avec schedule_interval. Les arguments par défaut définis précédemment sont utilisés."
      ],
      "metadata": {
        "id": "sqq2h7ac6OQi"
      }
    },
    {
      "cell_type": "markdown",
      "source": [
        "5 . Définition de la première tâche :"
      ],
      "metadata": {
        "id": "GUslxh216Qdr"
      }
    },
    {
      "cell_type": "code",
      "source": [
        "generate_dataset = BashOperator(\n",
        "        task_id='generate_dataset',\n",
        "        outlets=[my_dataset],\n",
        "        bash_command='echo \"data1,data2,data3\\n\" >> /tmp/data.csv',\n",
        ")"
      ],
      "metadata": {
        "id": "AQ4ijyEx6S1I"
      },
      "execution_count": null,
      "outputs": []
    },
    {
      "cell_type": "markdown",
      "source": [
        "Une tâche generate_dataset est définie à l'aide de BashOperator. La tâche utilise une commande bash pour ajouter une ligne de données \"data1,data2,data3\" au fichier data.csv. L'argument outlets est utilisé pour spécifier que la tâche produit des données stockées dans l'objet my_dataset. Un identifiant task_id est également attribué à la tâche pour la référencer dans le DAG."
      ],
      "metadata": {
        "id": "y65ay8fc6UNm"
      }
    },
    {
      "cell_type": "markdown",
      "source": [
        "6 . Définition de la deuxième tâche :"
      ],
      "metadata": {
        "id": "j5C3nekC6WTR"
      }
    },
    {
      "cell_type": "code",
      "source": [
        "check_file_task = BashOperator(\n",
        "        task_id='check_file',\n",
        "        bash_command='cat /tmp/data.csv',\n",
        ")"
      ],
      "metadata": {
        "id": "hDFXwIGE6Y-p"
      },
      "execution_count": null,
      "outputs": []
    },
    {
      "cell_type": "markdown",
      "source": [
        "Une deuxième tâche check_file_task est définie à l'aide de BashOperator. La tâche utilise une commande bash pour afficher le contenu du fichier data.csv. Un identifiant task_id est également attribué à la tâche pour la référencer dans le DAG."
      ],
      "metadata": {
        "id": "9zUxpvqA6ac8"
      }
    },
    {
      "cell_type": "markdown",
      "source": [
        "7 . Liaison des tâches :"
      ],
      "metadata": {
        "id": "UVWr02oe6cc0"
      }
    },
    {
      "cell_type": "code",
      "source": [
        "generate_dataset >> check_file_task"
      ],
      "metadata": {
        "id": "GBAEzL8m6fjT"
      },
      "execution_count": null,
      "outputs": []
    },
    {
      "cell_type": "markdown",
      "source": [
        "L'opérateur de dépendance >> est utilisé pour lier la tâche generate_dataset à la tâche check_file_task. Cela signifie que la tâche generate_dataset doit être exécutée avant la tâche check_file_task."
      ],
      "metadata": {
        "id": "VBo39_An6ihL"
      }
    },
    {
      "cell_type": "markdown",
      "source": [
        "8 . Définition du deuxième DAG :"
      ],
      "metadata": {
        "id": "alx9zKtq6ki6"
      }
    },
    {
      "cell_type": "code",
      "source": [
        "with DAG(dag_id='consumer_aware', \n",
        "        schedule = [my_dataset],\n",
        "        start_date = datetime.now(),\n",
        "        default_args=default_args) as dag:"
      ],
      "metadata": {
        "id": "ymtoYQT36nA_"
      },
      "execution_count": null,
      "outputs": []
    },
    {
      "cell_type": "markdown",
      "source": [
        "Un deuxième DAG appelé consumer_aware est défini pour consommer les données produites par le premier DAG (producer_aware) en utilisant l'objet my_dataset."
      ],
      "metadata": {
        "id": "rmD3_ZWz7HKM"
      }
    },
    {
      "cell_type": "markdown",
      "source": [
        "9 . Définition d'une troisième tâche :"
      ],
      "metadata": {
        "id": "JIeg4G707NL_"
      }
    },
    {
      "cell_type": "code",
      "source": [
        "consume_dataset = BashOperator(\n",
        "        task_id=\"consume_dataset\",\n",
        "        bash_command=\"cat /tmp/data.csv\",\n",
        "        retries=3,\n",
        ")"
      ],
      "metadata": {
        "id": "lOaC26NS7QKO"
      },
      "execution_count": null,
      "outputs": []
    },
    {
      "cell_type": "markdown",
      "source": [
        "Une troisième tâche appelée consume_dataset est définie en utilisant BashOperator. Cette tâche utilise une commande bash pour afficher le contenu du fichier data.csv. Le nombre maximal de tentatives pour exécuter la tâche en cas d'échec est également spécifié en utilisant l'argument retries."
      ],
      "metadata": {
        "id": "GBf1c5kr7R9R"
      }
    },
    {
      "cell_type": "markdown",
      "source": [
        "Execution du Dags : \n",
        "\n",
        "- DAG 1 : \n",
        "\n",
        "![image](https://user-images.githubusercontent.com/123757632/231904594-9fd8e908-fc7d-49ce-909a-49c89a9d0105.png)\n",
        "\n",
        "- DAG 2 :    \n",
        "\n",
        "![image](https://user-images.githubusercontent.com/123757632/231904661-100e17ff-2862-4d12-b9df-5692b0ef9bdf.png)\n",
        "\n",
        "\n",
        "Dataset : \n",
        "\n",
        "![image](https://user-images.githubusercontent.com/123757632/231904765-fac4d227-fbe1-4ff5-87a8-f53c73931d46.png)"
      ],
      "metadata": {
        "id": "DmrdU9Ze9gXP"
      }
    }
  ]
}