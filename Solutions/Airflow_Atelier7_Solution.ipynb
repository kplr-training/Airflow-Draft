{
  "nbformat": 4,
  "nbformat_minor": 0,
  "metadata": {
    "colab": {
      "provenance": []
    },
    "kernelspec": {
      "name": "python3",
      "display_name": "Python 3"
    },
    "language_info": {
      "name": "python"
    }
  },
  "cells": [
    {
      "cell_type": "markdown",
      "source": [
        "# Dynamic Task Mapping : Gestion de fichiers avec l’utilisation de Paramètres Constants et Simples "
      ],
      "metadata": {
        "id": "dYaurMNUpDuG"
      }
    },
    {
      "cell_type": "markdown",
      "source": [
        "![Diagramme sans nom-Page-7 drawio](https://user-images.githubusercontent.com/123757632/231465882-a97ab30c-8f97-4e7d-8ad8-138dff9db310.png)"
      ],
      "metadata": {
        "id": "XiCrHFHLpG2i"
      }
    },
    {
      "cell_type": "markdown",
      "source": [
        "1 . Définir le DAG (Directed Acyclic Graph) Airflow qui sera planifiée pour s'exécuter quotidiennement à partir d'une date  : \n",
        "\n",
        "Création du DAG nommée \"const_plus_single_param\" qui est planifiée pour s'exécuter quotidiennement à partir du 8 avril 2023."
      ],
      "metadata": {
        "id": "riGwPzlGpOGM"
      }
    },
    {
      "cell_type": "code",
      "execution_count": null,
      "metadata": {
        "id": "A8eURgM7o-ln"
      },
      "outputs": [],
      "source": [
        "from airflow import DAG\n",
        "from airflow.decorators import task\n",
        "from airflow.operators.bash import BashOperator\n",
        "import random\n",
        "from datetime import datetime\n",
        "\n",
        "with DAG('const_plus_single_param', start_date=datetime(2023, 4, 8), schedule_interval='@daily', catchup=False) as dag:"
      ]
    },
    {
      "cell_type": "markdown",
      "source": [
        "2 . Le DAG contient deux tâches définies en utilisant le décorateur \"@task\" qui permet de les traiter comme des tâches indépendantes qui peuvent être exécutées en parallèle :"
      ],
      "metadata": {
        "id": "TMBEps1PpfQa"
      }
    },
    {
      "cell_type": "code",
      "source": [
        "@task\n",
        "def generate_files():\n",
        "  return [f\"file_{nb}\" for nb in range(random.randint(2, 5))]"
      ],
      "metadata": {
        "id": "dW_EiNblqkXm"
      },
      "execution_count": null,
      "outputs": []
    },
    {
      "cell_type": "markdown",
      "source": [
        "La première tâche nommée generate_files est créée en utilisant le décorateur task. Cette tâche génère une liste de noms de fichiers aléatoires compris entre 2 et 5. La liste de noms de fichiers est retournée."
      ],
      "metadata": {
        "id": "5Kh0rMOdqpxX"
      }
    },
    {
      "cell_type": "code",
      "source": [
        "@task\n",
        "def download_file(path: str, file: str):\n",
        "  return (f\"echo '{path}/{file}' >> /tmp/out-const.txt\")"
      ],
      "metadata": {
        "id": "UPJAuMs2qxeN"
      },
      "execution_count": null,
      "outputs": []
    },
    {
      "cell_type": "markdown",
      "source": [
        "La deuxième tâche nommée download_file est créée en utilisant le décorateur task. Cette tâche prend en paramètre un chemin de fichier et un nom de fichier. La tâche ajoute le chemin complet du fichier généré à un fichier de sortie nommé \"/tmp/out-const.txt\"."
      ],
      "metadata": {
        "id": "bTXZOEt4qz_Y"
      }
    },
    {
      "cell_type": "code",
      "source": [
        "print_file = BashOperator.partial(task_id=\"print_file\", do_xcom_push=False).expand(\n",
        "bash_command=download_file.partial(path=\"files/partner\").expand(file=generate_files()))"
      ],
      "metadata": {
        "id": "P2QAQXqWq9hH"
      },
      "execution_count": null,
      "outputs": []
    },
    {
      "cell_type": "markdown",
      "source": [
        "La tâche print_file est créée en utilisant l'opérateur BashOperator.partial et task_id est défini sur \"print_file\". do_xcom_push=False est également spécifié pour éviter que la tâche précédente ne stocke des données dans XCom. Le bash_command est créé en utilisant download_file.partial pour spécifier le chemin et generate_files pour spécifier le nom du fichier. expand() est utilisé pour évaluer dynamiquement les arguments de la commande Bash à l'exécution."
      ],
      "metadata": {
        "id": "V2f8k8O8rCoL"
      }
    },
    {
      "cell_type": "code",
      "source": [
        "# Define the task that consumes the dataset\n",
        "check_files = BashOperator(\n",
        "  task_id=\"check_files\",\n",
        "  bash_command=\"cat /tmp/out-const.txt\",\n",
        "  retries=3,\n",
        ")"
      ],
      "metadata": {
        "id": "bltsvN2nrHcq"
      },
      "execution_count": null,
      "outputs": []
    },
    {
      "cell_type": "markdown",
      "source": [
        "La tâche check_files est créée en utilisant l'opérateur BashOperator. task_id est défini sur \"check_files\" et la commande Bash cat /tmp/out-const.txt est utilisée pour afficher le contenu du fichier de sortie."
      ],
      "metadata": {
        "id": "ExPB2uXtrRNh"
      }
    },
    {
      "cell_type": "code",
      "source": [
        "print_file >> check_files"
      ],
      "metadata": {
        "id": "iHYzE7ZHriBi"
      },
      "execution_count": null,
      "outputs": []
    },
    {
      "cell_type": "markdown",
      "source": [
        "Enfin, print_file >> check_files est utilisé pour spécifier que la tâche print_file doit être exécutée avant la tâche check_files dans le DAG."
      ],
      "metadata": {
        "id": "fQRzWRwwrktg"
      }
    },
    {
      "cell_type": "markdown",
      "source": [
        "![image](https://user-images.githubusercontent.com/123757632/231478409-d5506dae-1724-476b-a2a8-b035fa19ebd2.png)"
      ],
      "metadata": {
        "id": "dFcui1mGun-P"
      }
    },
    {
      "cell_type": "markdown",
      "source": [
        "Execution du Dag :\n",
        "\n",
        "![image](https://user-images.githubusercontent.com/123757632/231479677-3a312274-72aa-4443-9f7b-349e59f25fbd.png)"
      ],
      "metadata": {
        "id": "Ce6HKKfOur1A"
      }
    },
    {
      "cell_type": "markdown",
      "source": [
        "Verification du log : \n",
        "\n",
        "![image](https://user-images.githubusercontent.com/123757632/231479922-264cd436-6694-49fe-9874-537e19da20ff.png)"
      ],
      "metadata": {
        "id": "3pQ5ke9kvyvJ"
      }
    }
  ]
}