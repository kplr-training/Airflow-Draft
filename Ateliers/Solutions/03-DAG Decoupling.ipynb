{
    "nbformat": 4,
    "nbformat_minor": 0,
    "metadata": {
        "kernelspec": {
            "name": "python3",
            "display_name": "Python 3"
        },
        "language_info": {
            "name": "python"
        }
    },
    "cells": [
        {
            "cell_type": "markdown",
            "metadata": {
                "id": "view-in-github",
                "colab_type": "text"
            },
            "source": [
                "<a href=\"https://colab.research.google.com/github/kplr-training/Airflow/blob/main/Ateliers/Solutions/03-DAG%20Decoupling.ipynb\" target=\"_blank\"><img src=\"https://colab.research.google.com/assets/colab-badge.svg\" alt=\"Open In Colab\"/></a>"
            ]
        },
        {
            "cell_type": "markdown",
            "source": [
                "# Dags Decoupling: Cr\u00e9ation de Dags simple combiner en un seul Dag "
            ],
            "metadata": {
                "id": "VWIYJVxoJoR6"
            }
        },
        {
            "cell_type": "markdown",
            "source": [
                "![atelier3](https://user-images.githubusercontent.com/123757632/231910388-d2d83283-8a29-454c-9b3e-223787b8477b.png)"
            ],
            "metadata": {
                "id": "yPS4zARMJp1E"
            }
        },
        {
            "cell_type": "markdown",
            "source": [
                "# Cr\u00e9ation Dags et d\u00e9finition des d\u00e9pendances entre les DAG dans Airflow"
            ],
            "metadata": {
                "id": "SD_xochbJxGd"
            }
        },
        {
            "cell_type": "markdown",
            "source": [
                "Lorsque deux DAG ont des relations de d\u00e9pendance, il convient d'envisager de les combiner en un seul DAG, qui est g\u00e9n\u00e9ralement plus simple \u00e0 comprendre. Airflow offre \u00e9galement une meilleure repr\u00e9sentation visuelle de d\u00e9pendances pour les t\u00e2ches sur le m\u00eame DAG. Cependant, il n'est parfois pas pratique de mettre tous les \u00e9l\u00e9ments connexes t\u00e2ches sur le m\u00eame DAG."
            ],
            "metadata": {
                "id": "xSNY9Z5-JyqR"
            }
        },
        {
            "cell_type": "markdown",
            "source": [
                "## 1. Cr\u00e9ation des deux dags Parents 'dag en amont'"
            ],
            "metadata": {
                "id": "To8jSxlpJ3Kl"
            }
        },
        {
            "cell_type": "markdown",
            "source": [
                "Pour la cr\u00e9ation des deux dags parents , il faut commencer par la cr\u00e9ation des deux fichirs 'parent_dag_1.py' et 'parent_dag_2.py' dans le dossier 'dags' ."
            ],
            "metadata": {
                "id": "sn4_1PDuJ5eH"
            }
        },
        {
            "cell_type": "code",
            "source": [
                "\u2514\u2500\u2500\u2500dags|\u2500\u2500 parent_dag_1.py                  \n",
                "        \u2514\u2500\u2500 parent_dag_2.py"
            ],
            "metadata": {
                "id": "v38NX1BAJ3rI"
            },
            "execution_count": null,
            "outputs": []
        },
        {
            "cell_type": "markdown",
            "source": [
                "### 1 - parent_dag_1.py"
            ],
            "metadata": {
                "id": "wljIqjBHJ74f"
            }
        },
        {
            "cell_type": "code",
            "execution_count": null,
            "metadata": {
                "id": "Ami_Nw90Jj6s"
            },
            "outputs": [],
            "source": [
                "from airflow import models\n",
                "from airflow.operators.dummy_operator import DummyOperator\n",
                "from airflow.operators import python_operator\n",
                "from airflow.utils.dates import days_ago\n",
                "\n",
                "\n",
                "with models.DAG(\n",
                "    'dag_1',\n",
                "    schedule_interval='*/1 * * * *', # Chaque minute\n",
                "    start_date=days_ago(0),\n",
                "    catchup=False) as dag:\n",
                "  def greeting():\n",
                "    \"\"\"Just check that the DAG is started in the log.\"\"\"\n",
                "    import logging\n",
                "    logging.info('Bonjour le monde depuis le DAG 1')\n",
                "\n",
                "  hello_python = python_operator.PythonOperator(\n",
                "    task_id='bonjour',\n",
                "    python_callable=greeting)\n",
                "\n",
                "  goodbye_dummy = DummyOperator(task_id='au_revoir')\n",
                "\n",
                "  hello_python >> goodbye_dummy"
            ]
        },
        {
            "cell_type": "markdown",
            "source": [
                "Ce code cr\u00e9e un DAG simple dans Airflow appel\u00e9 \"dag_1\", qui contient deux t\u00e2ches :\n",
                "\n",
                "* La premi\u00e8re t\u00e2che s'appelle \"hello_python\" et utilise l'op\u00e9rateur Python pour ex\u00e9cuter la fonction \"greeting()\". Cette fonction \u00e9crit simplement \"Bonjour le monde depuis le DAG 1\" dans les logs.\n",
                "* La deuxi\u00e8me t\u00e2che s'appelle \"goodbye_dummy\" et utilise l'op\u00e9rateur DummyOperator pour simuler une t\u00e2che de fin. La fl\u00e8che \">>\" entre ces deux t\u00e2ches d\u00e9finit une d\u00e9pendance, de sorte que \"goodbye_dummy\" ne peut \u00eatre ex\u00e9cut\u00e9 que lorsque \"hello_python\" est termin\u00e9 avec succ\u00e8s.\n",
                "La ligne \"with models.DAG(...)\" cr\u00e9e un objet DAG avec les param\u00e8tres suivants :\n",
                "\n",
                "* \"dag_id\": le nom du DAG (dans ce cas \"dag_1\").\n",
                "* \"schedule_interval\": la fr\u00e9quence \u00e0 laquelle le DAG sera ex\u00e9cut\u00e9 (dans ce cas toutes les minutes).\n",
                "* \"start_date\": la date de d\u00e9but du DAG (dans ce cas, il commence imm\u00e9diatement).\n",
                "* \"catchup\": un bool\u00e9en qui indique si Airflow doit rattraper les ex\u00e9cutions manqu\u00e9es depuis la date de d\u00e9but (dans ce cas, c'est d\u00e9sactiv\u00e9).\n",
                "\n",
                "En r\u00e9sum\u00e9, ce DAG ex\u00e9cutera la fonction \"greeting()\" toutes les minutes, \u00e9crira un message de log et terminera la t\u00e2che avec un op\u00e9rateur \"Dummy\"."
            ],
            "metadata": {
                "id": "NgzGKEJpKCHD"
            }
        },
        {
            "cell_type": "markdown",
            "source": [
                "![image](https://user-images.githubusercontent.com/123757632/227970640-39e0893d-6b28-4aa8-ad65-9f09ef4f31f7.png)\n"
            ],
            "metadata": {
                "id": "lWUSrn3HKF-D"
            }
        },
        {
            "cell_type": "markdown",
            "source": [
                "Dans L'interface Utilisateur, Plus Pr\u00e9cis\u00e9ment Dans L'interface Graphique Du Dag Nomm\u00e9 Dag_1, Toutes Les T\u00e2ches Peuvent \u00catre Rep\u00e9r\u00e9es."
            ],
            "metadata": {
                "id": "A3YRz0xjKJlX"
            }
        },
        {
            "cell_type": "markdown",
            "source": [
                "\n",
                "![image](https://user-images.githubusercontent.com/123757632/227970692-7099a4d3-7d48-49a9-936e-cb9fe455e288.png)\n"
            ],
            "metadata": {
                "id": "Jea9WeJOKM01"
            }
        },
        {
            "cell_type": "markdown",
            "source": [
                "### 2 - parent_dag_2.py"
            ],
            "metadata": {
                "id": "Kl-usd98KQIu"
            }
        },
        {
            "cell_type": "code",
            "source": [
                "from airflow import models\n",
                "from airflow.operators.dummy_operator import DummyOperator\n",
                "from airflow.operators import python_operator\n",
                "from airflow.utils.dates import days_ago\n",
                "\n",
                "\n",
                "with models.DAG(\n",
                "    'dag_2',\n",
                "    schedule_interval='*/1 * * * *', # Chaque minute\n",
                "    start_date=days_ago(0),\n",
                "    catchup=False) as dag:\n",
                "  def greeting():\n",
                "    \"\"\"Just check that the DAG is started in the log.\"\"\"\n",
                "    import logging\n",
                "    logging.info('Bonjour le monde depuis le DAG 2')\n",
                "\n",
                "  hello_python = python_operator.PythonOperator(\n",
                "    task_id='bonjour',\n",
                "    python_callable=greeting)\n",
                "\n",
                "  goodbye_dummy = DummyOperator(task_id='au_revoir')\n",
                "\n",
                "  hello_python >> goodbye_dummy"
            ],
            "metadata": {
                "id": "j9z1v3B8KRMc"
            },
            "execution_count": null,
            "outputs": []
        },
        {
            "cell_type": "markdown",
            "source": [
                "Ce code cr\u00e9e un DAG nomm\u00e9 \"dag_2\" dans Airflow qui est identique au DAG pr\u00e9c\u00e9dent (\"dag_1\") que nous avons vu. Il contient deux t\u00e2ches :\n",
                "\n",
                "* La premi\u00e8re t\u00e2che s'appelle \"hello_python\" et utilise l'op\u00e9rateur Python pour ex\u00e9cuter la fonction \"greeting()\". Cette fonction \u00e9crit simplement \"Bonjour le monde depuis le DAG 2\" dans les logs.\n",
                "* La deuxi\u00e8me t\u00e2che s'appelle \"goodbye_dummy\" et utilise l'op\u00e9rateur DummyOperator pour simuler une t\u00e2che de fin. La fl\u00e8che \">>\" entre ces deux t\u00e2ches d\u00e9finit une d\u00e9pendance, de sorte que \"goodbye_dummy\" ne peut \u00eatre ex\u00e9cut\u00e9 que lorsque \"hello_python\" est termin\u00e9 avec succ\u00e8s.\n",
                "\n",
                "La ligne \"with models.DAG(...)\" cr\u00e9e un objet DAG avec les param\u00e8tres suivants :\n",
                "\n",
                "* \"dag_id\": le nom du DAG (dans ce cas \"dag_2\").\n",
                "* \"schedule_interval\": la fr\u00e9quence \u00e0 laquelle le DAG sera ex\u00e9cut\u00e9 (dans ce cas toutes les minutes).\n",
                "* \"start_date\": la date de d\u00e9but du DAG (dans ce cas, il commence imm\u00e9diatement).\n",
                "* \"catchup\": un bool\u00e9en qui indique si Airflow doit rattraper les ex\u00e9cutions manqu\u00e9es depuis la date de d\u00e9but (dans ce cas, c'est d\u00e9sactiv\u00e9).\n",
                "\n",
                "En r\u00e9sum\u00e9, ce DAG ex\u00e9cutera la fonction \"greeting()\" toutes les minutes, \u00e9crira un message de log et terminera la t\u00e2che avec un op\u00e9rateur \"Dummy\". La seule diff\u00e9rence entre ce DAG et le pr\u00e9c\u00e9dent est le nom.\n",
                "\n"
            ],
            "metadata": {
                "id": "RsCLkXJdKU7D"
            }
        },
        {
            "cell_type": "markdown",
            "source": [
                "\n",
                "![image](https://user-images.githubusercontent.com/123757632/227970722-d5a85af4-25eb-42e7-8526-e046587ee17b.png)\n",
                "\n",
                "\n",
                "\n",
                "![image](https://user-images.githubusercontent.com/123757632/227970795-4eafaabe-c71b-4c1a-825a-c2e5be5201ab.png)\n"
            ],
            "metadata": {
                "id": "Y5fY3VPxKV6c"
            }
        },
        {
            "cell_type": "markdown",
            "source": [
                "## 2 . Cr\u00e9ation du dag enfant 'dag en aval'"
            ],
            "metadata": {
                "id": "1m-stt2_Ka1A"
            }
        },
        {
            "cell_type": "markdown",
            "source": [
                "### child_master_dag.py"
            ],
            "metadata": {
                "id": "VPcgsQcbKfO9"
            }
        },
        {
            "cell_type": "code",
            "source": [
                "\"\"\"D\u00e9clenchez les DAGs #1 et #2 et faites quelque chose s'ils r\u00e9ussissent.\"\"\"\n",
                "\n",
                "from airflow import DAG\n",
                "from airflow.sensors.external_task import ExternalTaskSensor\n",
                "from airflow.operators.dummy_operator import DummyOperator\n",
                "from airflow.utils.dates import days_ago\n",
                "\n",
                "\n",
                "with DAG(\n",
                "    'Dag_master',\n",
                "    schedule_interval='*/1 * * * *', # Chaque minute\n",
                "    start_date=days_ago(0),\n",
                "    catchup=False) as dag:\n",
                "  def greeting():\n",
                "    \"\"\"V\u00e9rifiez simplement que le DAG a d\u00e9marr\u00e9 dans le journal.\"\"\"\n",
                "    import logging\n",
                "    logging.info('Hello World from DAG MASTER')\n",
                "\n",
                "  externalsensor1 = ExternalTaskSensor(\n",
                "    task_id='dag_1_completed_status',\n",
                "    external_dag_id='dag_1',\n",
                "    external_task_id=None, #Attendez que tout le DAG soit termin\u00e9\n",
                "    check_existence=True,\n",
                "    timeout=120)\n",
                "\n",
                "  externalsensor2 = ExternalTaskSensor(\n",
                "    task_id='dag_2_completed_status',\n",
                "    external_dag_id='dag_2',\n",
                "    external_task_id=None, # Attendez que tout le DAG soit termin\u00e9\n",
                "    check_existence=True,\n",
                "    timeout=120)\n",
                "\n",
                "  goodbye_dummy = DummyOperator(task_id='goodbye_master')\n",
                "\n",
                "  [externalsensor1, externalsensor2] >> goodbye_dummy"
            ],
            "metadata": {
                "id": "Ubt6_TAKKi3B"
            },
            "execution_count": null,
            "outputs": []
        },
        {
            "cell_type": "markdown",
            "source": [
                "Le DAG principal est cr\u00e9\u00e9 en utilisant la m\u00e9thode DAG() de la biblioth\u00e8que Airflow. Le DAG est nomm\u00e9 \"Dag_master\" et est configur\u00e9 pour s'ex\u00e9cuter toutes les minutes en utilisant le param\u00e8tre schedule_interval.\n",
                "\n",
                "La date de d\u00e9but est d\u00e9finie comme \u00e9tant la date d'aujourd'hui en utilisant la fonction days_ago(). Une fonction appel\u00e9e greeting() est d\u00e9finie pour v\u00e9rifier que le DAG a d\u00e9marr\u00e9 en \u00e9crivant un message de journalisation (\"Hello World from DAG MASTER\").\n",
                "\n",
                "Deux capteurs de t\u00e2ches externes sont cr\u00e9\u00e9s pour surveiller les deux DAGs #1 et #2 en attente de leur ach\u00e8vement. \n",
                "\n",
                "Les capteurs sont configur\u00e9s avec les param\u00e8tres suivants :\n",
                "\n",
                "* task_id: l'identifiant de la t\u00e2che\n",
                "* external_dag_id: l'identifiant du DAG externe \u00e0 surveiller\n",
                "* external_task_id: l'identifiant de la t\u00e2che externe \u00e0 surveiller. Dans ce cas, nous ne surveillons pas une t\u00e2che sp\u00e9cifique, mais tout le DAG. Par cons\u00e9quent, nous avons d\u00e9fini cette valeur sur None.\n",
                "* check_existence: une valeur bool\u00e9enne pour indiquer si le capteur doit v\u00e9rifier l'existence de la t\u00e2che ou attendre qu'elle soit termin\u00e9e.\n",
                "* timeout: le temps maximum en secondes pendant lequel le capteur doit attendre avant de d\u00e9clencher une exception.\n",
                "* Finalement, une t\u00e2che \"goodbye_master\" est cr\u00e9\u00e9e en utilisant l'op\u00e9rateur fictif DummyOperator. Cette t\u00e2che sera ex\u00e9cut\u00e9e si les deux capteurs de t\u00e2ches externes r\u00e9ussissent. \n",
                "* Les deux capteurs sont connect\u00e9s \u00e0 la t\u00e2che \"goodbye_master\" en utilisant l'op\u00e9rateur de d\u00e9calage de bits (>>) pour indiquer que la t\u00e2che \"goodbye_master\" ne doit pas \u00eatre ex\u00e9cut\u00e9e tant que les deux capteurs ne se sont pas d\u00e9clench\u00e9s.\n",
                "\n",
                "En r\u00e9sum\u00e9, ce DAG cr\u00e9e deux capteurs de t\u00e2ches externes pour surveiller deux autres DAGs et attend leur ach\u00e8vement avant d'ex\u00e9cuter une t\u00e2che fictive. Ce code peut \u00eatre modifi\u00e9 pour effectuer une t\u00e2che r\u00e9elle une fois que les deux DAGs sont termin\u00e9s avec succ\u00e8s."
            ],
            "metadata": {
                "id": "Fkd6R3QIKk-_"
            }
        },
        {
            "cell_type": "markdown",
            "source": [
                "\n",
                "![image](https://user-images.githubusercontent.com/123757632/227970827-38425e7e-132b-4219-acdd-9ab90f8967a5.png)\n",
                "\n",
                "\n",
                "![image](https://user-images.githubusercontent.com/123757632/227970858-cb27f9ba-0f12-47c0-8cf6-a199da0f37ba.png)\n"
            ],
            "metadata": {
                "id": "4wZB3jZUKnjt"
            }
        },
        {
            "cell_type": "markdown",
            "source": [
                "## ACTIVATION DES DAGS\n",
                "\n",
                "![image](https://user-images.githubusercontent.com/123757632/227970898-5c7dab64-9825-4f95-ab97-ea1f3d1ed219.png)\n",
                "\n",
                "\n",
                "### ACTIVATION DES DAGS-DAG1\n",
                "\n",
                "\n",
                "![image](https://user-images.githubusercontent.com/123757632/227970915-ae6b4578-7ecc-41c6-9344-b30781742a45.png)\n",
                "\n",
                "\n",
                "### ACTIVATION DES DAGS-DAG2\n",
                "\n",
                "\n",
                "![image](https://user-images.githubusercontent.com/123757632/227970954-4c1c4422-2ad2-454f-84c3-458caba15e8d.png)\n",
                "\n",
                "\n",
                "### ACTIVATION DES DAGS-DAG_MASTER\n",
                "\n",
                "\n",
                "\n",
                "![image](https://user-images.githubusercontent.com/123757632/227971011-b6b655df-99a5-4b6e-9d85-d673e236d52a.png)"
            ],
            "metadata": {
                "id": "CLcAaBeoKr2i"
            }
        }
    ]
}