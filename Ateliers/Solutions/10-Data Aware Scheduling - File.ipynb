{
    "nbformat": 4,
    "nbformat_minor": 0,
    "metadata": {
        "kernelspec": {
            "name": "python3",
            "display_name": "Python 3"
        },
        "language_info": {
            "name": "python"
        }
    },
    "cells": [
        {
            "cell_type": "markdown",
            "metadata": {
                "id": "view-in-github",
                "colab_type": "text"
            },
            "source": [
                "<a href=\"https://colab.research.google.com/github/kplr-training/Airflow/blob/main/Ateliers/Solutions/10-Data%20Aware%20Scheduling%20-%20File.ipynb\" target=\"_blank\"><img src=\"https://colab.research.google.com/assets/colab-badge.svg\" alt=\"Open In Colab\"/></a>"
            ]
        },
        {
            "cell_type": "markdown",
            "source": [
                "# Data Aware Scheduling\u202f: Cr\u00e9ation et consommation d'un dataset pour le data-aware\n",
                "\n"
            ],
            "metadata": {
                "id": "Re_HGHafWW25"
            }
        },
        {
            "cell_type": "markdown",
            "source": [
                "![dataaware](https://user-images.githubusercontent.com/123757632/231875385-9cf19dc7-c1fc-4b6a-8076-ed5417389188.png)"
            ],
            "metadata": {
                "id": "heEUdKpgWXWA"
            }
        },
        {
            "cell_type": "markdown",
            "source": [
                "1 . Importation des modules n\u00e9cessaires "
            ],
            "metadata": {
                "id": "W2MHaVbF4Qxc"
            }
        },
        {
            "cell_type": "code",
            "execution_count": null,
            "metadata": {
                "id": "M8PgZ_-RWU5s"
            },
            "outputs": [],
            "source": [
                "from datetime import datetime, timedelta\n",
                "from airflow import DAG, Dataset\n",
                "from airflow.operators.bash_operator import BashOperator"
            ]
        },
        {
            "cell_type": "markdown",
            "source": [
                "Les modules datetime, timedelta et Dataset de la biblioth\u00e8que Airflow sont import\u00e9s, ainsi que BashOperator qui permet l'ex\u00e9cution de commandes bash dans les t\u00e2ches."
            ],
            "metadata": {
                "id": "Mwox00I5538X"
            }
        },
        {
            "cell_type": "markdown",
            "source": [
                "2 . D\u00e9finition des arguments par d\u00e9faut :"
            ],
            "metadata": {
                "id": "xjNRP8Jc57qY"
            }
        },
        {
            "cell_type": "code",
            "source": [
                "default_args = {\n",
                "    'owner': 'airflow',\n",
                "    'depends_on_past': False    \n",
                "}"
            ],
            "metadata": {
                "id": "XQvwVwrG54WF"
            },
            "execution_count": null,
            "outputs": []
        },
        {
            "cell_type": "markdown",
            "source": [
                "Le dictionnaire default_args est d\u00e9fini pour sp\u00e9cifier les arguments par d\u00e9faut pour les deux DAGs qui vont suivre. Dans cet exemple, seul l'argument owner est d\u00e9fini pour identifier l'utilisateur responsable des DAGs."
            ],
            "metadata": {
                "id": "OnZ9JDpv5_4S"
            }
        },
        {
            "cell_type": "markdown",
            "source": [
                "3 . D\u00e9finition d'un Dataset :"
            ],
            "metadata": {
                "id": "GqIZ48gt6C_i"
            }
        },
        {
            "cell_type": "code",
            "source": [
                "my_dataset = Dataset('/tmp/data.csv')"
            ],
            "metadata": {
                "id": "QLGjJmYs6Ft6"
            },
            "execution_count": null,
            "outputs": []
        },
        {
            "cell_type": "markdown",
            "source": [
                "Un objet my_dataset est d\u00e9fini pour repr\u00e9senter le fichier de donn\u00e9es data.csv. Le chemin du fichier est sp\u00e9cifi\u00e9 en tant qu'argument pour l'objet Dataset."
            ],
            "metadata": {
                "id": "-yQ8Vhf26Hkg"
            }
        },
        {
            "cell_type": "markdown",
            "source": [
                "4 . D\u00e9finition du premier DAG :"
            ],
            "metadata": {
                "id": "z3UKDbgy6Ji3"
            }
        },
        {
            "cell_type": "code",
            "source": [
                "with DAG(dag_id='producer_aware', \n",
                "        start_date = datetime.now(),\n",
                "        schedule_interval = timedelta(minutes=5),\n",
                "        default_args=default_args) as dag:"
            ],
            "metadata": {
                "id": "1qe6Y-Ag6MT7"
            },
            "execution_count": null,
            "outputs": []
        },
        {
            "cell_type": "markdown",
            "source": [
                "Le premier DAG est d\u00e9fini \u00e0 l'aide de l'instruction with DAG(). Le DAG est nomm\u00e9 producer_aware, la date et l'heure de d\u00e9but sont sp\u00e9cifi\u00e9es avec start_date, et l'ex\u00e9cution est planifi\u00e9e toutes les cinq minutes avec schedule_interval. Les arguments par d\u00e9faut d\u00e9finis pr\u00e9c\u00e9demment sont utilis\u00e9s."
            ],
            "metadata": {
                "id": "sqq2h7ac6OQi"
            }
        },
        {
            "cell_type": "markdown",
            "source": [
                "5 . D\u00e9finition de la premi\u00e8re t\u00e2che :"
            ],
            "metadata": {
                "id": "GUslxh216Qdr"
            }
        },
        {
            "cell_type": "code",
            "source": [
                "generate_dataset = BashOperator(\n",
                "        task_id='generate_dataset',\n",
                "        outlets=[my_dataset],\n",
                "        bash_command='echo \"data1,data2,data3\\n\" >> /tmp/data.csv',\n",
                ")"
            ],
            "metadata": {
                "id": "AQ4ijyEx6S1I"
            },
            "execution_count": null,
            "outputs": []
        },
        {
            "cell_type": "markdown",
            "source": [
                "Une t\u00e2che generate_dataset est d\u00e9finie \u00e0 l'aide de BashOperator. La t\u00e2che utilise une commande bash pour ajouter une ligne de donn\u00e9es \"data1,data2,data3\" au fichier data.csv. L'argument outlets est utilis\u00e9 pour sp\u00e9cifier que la t\u00e2che produit des donn\u00e9es stock\u00e9es dans l'objet my_dataset. Un identifiant task_id est \u00e9galement attribu\u00e9 \u00e0 la t\u00e2che pour la r\u00e9f\u00e9rencer dans le DAG."
            ],
            "metadata": {
                "id": "y65ay8fc6UNm"
            }
        },
        {
            "cell_type": "markdown",
            "source": [
                "6 . D\u00e9finition de la deuxi\u00e8me t\u00e2che :"
            ],
            "metadata": {
                "id": "j5C3nekC6WTR"
            }
        },
        {
            "cell_type": "code",
            "source": [
                "check_file_task = BashOperator(\n",
                "        task_id='check_file',\n",
                "        bash_command='cat /tmp/data.csv',\n",
                ")"
            ],
            "metadata": {
                "id": "hDFXwIGE6Y-p"
            },
            "execution_count": null,
            "outputs": []
        },
        {
            "cell_type": "markdown",
            "source": [
                "Une deuxi\u00e8me t\u00e2che check_file_task est d\u00e9finie \u00e0 l'aide de BashOperator. La t\u00e2che utilise une commande bash pour afficher le contenu du fichier data.csv. Un identifiant task_id est \u00e9galement attribu\u00e9 \u00e0 la t\u00e2che pour la r\u00e9f\u00e9rencer dans le DAG."
            ],
            "metadata": {
                "id": "9zUxpvqA6ac8"
            }
        },
        {
            "cell_type": "markdown",
            "source": [
                "7 . Liaison des t\u00e2ches :"
            ],
            "metadata": {
                "id": "UVWr02oe6cc0"
            }
        },
        {
            "cell_type": "code",
            "source": [
                "generate_dataset >> check_file_task"
            ],
            "metadata": {
                "id": "GBAEzL8m6fjT"
            },
            "execution_count": null,
            "outputs": []
        },
        {
            "cell_type": "markdown",
            "source": [
                "L'op\u00e9rateur de d\u00e9pendance >> est utilis\u00e9 pour lier la t\u00e2che generate_dataset \u00e0 la t\u00e2che check_file_task. Cela signifie que la t\u00e2che generate_dataset doit \u00eatre ex\u00e9cut\u00e9e avant la t\u00e2che check_file_task."
            ],
            "metadata": {
                "id": "VBo39_An6ihL"
            }
        },
        {
            "cell_type": "markdown",
            "source": [
                "8 . D\u00e9finition du deuxi\u00e8me DAG :"
            ],
            "metadata": {
                "id": "alx9zKtq6ki6"
            }
        },
        {
            "cell_type": "code",
            "source": [
                "with DAG(dag_id='consumer_aware', \n",
                "        schedule = [my_dataset],\n",
                "        start_date = datetime.now(),\n",
                "        default_args=default_args) as dag:"
            ],
            "metadata": {
                "id": "ymtoYQT36nA_"
            },
            "execution_count": null,
            "outputs": []
        },
        {
            "cell_type": "markdown",
            "source": [
                "Un deuxi\u00e8me DAG appel\u00e9 consumer_aware est d\u00e9fini pour consommer les donn\u00e9es produites par le premier DAG (producer_aware) en utilisant l'objet my_dataset."
            ],
            "metadata": {
                "id": "rmD3_ZWz7HKM"
            }
        },
        {
            "cell_type": "markdown",
            "source": [
                "9 . D\u00e9finition d'une troisi\u00e8me t\u00e2che :"
            ],
            "metadata": {
                "id": "JIeg4G707NL_"
            }
        },
        {
            "cell_type": "code",
            "source": [
                "consume_dataset = BashOperator(\n",
                "        task_id=\"consume_dataset\",\n",
                "        bash_command=\"cat /tmp/data.csv\",\n",
                "        retries=3,\n",
                ")"
            ],
            "metadata": {
                "id": "lOaC26NS7QKO"
            },
            "execution_count": null,
            "outputs": []
        },
        {
            "cell_type": "markdown",
            "source": [
                "Une troisi\u00e8me t\u00e2che appel\u00e9e consume_dataset est d\u00e9finie en utilisant BashOperator. Cette t\u00e2che utilise une commande bash pour afficher le contenu du fichier data.csv. Le nombre maximal de tentatives pour ex\u00e9cuter la t\u00e2che en cas d'\u00e9chec est \u00e9galement sp\u00e9cifi\u00e9 en utilisant l'argument retries."
            ],
            "metadata": {
                "id": "GBf1c5kr7R9R"
            }
        },
        {
            "cell_type": "markdown",
            "source": [
                "Execution du Dags : \n",
                "\n",
                "- DAG 1 : \n",
                "\n",
                "![image](https://user-images.githubusercontent.com/123757632/231904594-9fd8e908-fc7d-49ce-909a-49c89a9d0105.png)\n",
                "\n",
                "- DAG 2 :    \n",
                "\n",
                "![image](https://user-images.githubusercontent.com/123757632/231904661-100e17ff-2862-4d12-b9df-5692b0ef9bdf.png)\n",
                "\n",
                "\n",
                "Dataset : \n",
                "\n",
                "![image](https://user-images.githubusercontent.com/123757632/231904765-fac4d227-fbe1-4ff5-87a8-f53c73931d46.png)"
            ],
            "metadata": {
                "id": "DmrdU9Ze9gXP"
            }
        }
    ]
}