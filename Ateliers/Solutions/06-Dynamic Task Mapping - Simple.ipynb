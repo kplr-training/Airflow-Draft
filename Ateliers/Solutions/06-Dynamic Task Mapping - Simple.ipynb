{
    "nbformat": 4,
    "nbformat_minor": 0,
    "metadata": {
        "kernelspec": {
            "name": "python3",
            "display_name": "Python 3"
        },
        "language_info": {
            "name": "python"
        }
    },
    "cells": [
        {
            "cell_type": "markdown",
            "metadata": {
                "id": "view-in-github",
                "colab_type": "text"
            },
            "source": [
                "<a href=\"https://colab.research.google.com/github/kplr-training/Airflow/blob/main/Ateliers/Solutions/06-Dynamic%20Task%20Mapping%20-%20Simple.ipynb\" target=\"_blank\"><img src=\"https://colab.research.google.com/assets/colab-badge.svg\" alt=\"Open In Colab\"/></a>"
            ]
        },
        {
            "cell_type": "markdown",
            "source": [
                "# Dynamic Task Mapping\u202f: Cr\u00e9ation d\u2019un DAG avec Simple task mapping"
            ],
            "metadata": {
                "id": "fJ_ZDJxBd5vx"
            }
        },
        {
            "cell_type": "markdown",
            "source": [
                "![simple](https://user-images.githubusercontent.com/123757632/231465297-6f71c9f6-468d-4afd-af7a-ed4d699ebd64.png)"
            ],
            "metadata": {
                "id": "2tD_V4pukf0s"
            }
        },
        {
            "cell_type": "markdown",
            "source": [
                "1 . D\u00e9finir le DAG (Directed Acyclic Graph) Airflow qui sera planifi\u00e9e pour s'ex\u00e9cuter quotidiennement \u00e0 partir d'une date  : \n",
                "\n",
                "Cr\u00e9ation du DAG nomm\u00e9e \"single_map-download-ctx\" qui est planifi\u00e9e pour s'ex\u00e9cuter quotidiennement \u00e0 partir du 8 avril 2023."
            ],
            "metadata": {
                "id": "zwvP0_-kkh9W"
            }
        },
        {
            "cell_type": "code",
            "execution_count": null,
            "metadata": {
                "id": "hxU58S2mdtH5"
            },
            "outputs": [],
            "source": [
                "from airflow import DAG\n",
                "from airflow.decorators import task\n",
                "from datetime import datetime\n",
                "import pprint\n",
                "\n",
                "with DAG('single_map-download-ctx', start_date=datetime(2023, 4, 8), schedule_interval='@daily', catchup=False) as dag:"
            ]
        },
        {
            "cell_type": "markdown",
            "source": [
                "2 . Le DAG contient deux t\u00e2ches d\u00e9finies en utilisant le d\u00e9corateur \"@task\" qui permet de les traiter comme des t\u00e2ches ind\u00e9pendantes qui peuvent \u00eatre ex\u00e9cut\u00e9es en parall\u00e8le :"
            ],
            "metadata": {
                "id": "VAjLGQFElKqS"
            }
        },
        {
            "cell_type": "code",
            "source": [
                "@task\n",
                "    def download_url(url: str):\n",
                "        import requests\n",
                "        response = requests.get(url)\n",
                "        content = response.content.decode('utf-8')\n",
                "        lines = content.splitlines()\n",
                "        return(lines)"
            ],
            "metadata": {
                "id": "uTMCasxylKV8"
            },
            "execution_count": null,
            "outputs": []
        },
        {
            "cell_type": "markdown",
            "source": [
                "La premi\u00e8re t\u00e2che est \"download_url\" qui prend une URL en entr\u00e9e, utilise la biblioth\u00e8que \"requests\" pour t\u00e9l\u00e9charger le contenu du fichier CSV correspondant, le d\u00e9code en utilisant l'encodage UTF-8 et le divise en une liste de lignes. La fonction retourne ensuite cette liste pour la passer en entr\u00e9e de la t\u00e2che suivante."
            ],
            "metadata": {
                "id": "3c1NE5BWlXaW"
            }
        },
        {
            "cell_type": "code",
            "source": [
                "@task\n",
                "    def print_content(content):                \n",
                "        for file in content:\n",
                "            print('---------------FILE-------------------')\n",
                "            print(file)\n",
                "            print('---------------------------------------')"
            ],
            "metadata": {
                "id": "Z_5rAVkFlaH_"
            },
            "execution_count": null,
            "outputs": []
        },
        {
            "cell_type": "markdown",
            "source": [
                "La deuxi\u00e8me t\u00e2che est \"print_content\" qui prend le contenu renvoy\u00e9 par la t\u00e2che pr\u00e9c\u00e9dente en entr\u00e9e et affiche chaque fichier sur la console en ajoutant une ligne de s\u00e9paration pour une meilleure lisibilit\u00e9."
            ],
            "metadata": {
                "id": "qMdLav5MmF8w"
            }
        },
        {
            "cell_type": "code",
            "source": [
                "files = download_url.expand(url=[\n",
                "                                        \"https://people.sc.fsu.edu/~jburkardt/data/csv/addresses.csv\", \n",
                "                                        \"https://people.sc.fsu.edu/~jburkardt/data/csv/grades.csv\", \n",
                "                                        \"https://people.sc.fsu.edu/~jburkardt/data/csv/taxables.csv\"\n",
                "                                        ])\n",
                "    print_content(files)"
            ],
            "metadata": {
                "id": "JhqSdMLJmNQv"
            },
            "execution_count": null,
            "outputs": []
        },
        {
            "cell_type": "markdown",
            "source": [
                "Ensuite, l'utilisation de la m\u00e9thode \"expand\" pour ex\u00e9cuter la t\u00e2che \"download_url\" trois fois en parall\u00e8le, une fois pour chaque URL sp\u00e9cifi\u00e9e dans la liste \"url\" pass\u00e9e en param\u00e8tre. Les r\u00e9sultats de ces trois ex\u00e9cutions sont ensuite combin\u00e9s en une seule liste qui est pass\u00e9e en entr\u00e9e \u00e0 la t\u00e2che \"print_content\"."
            ],
            "metadata": {
                "id": "L4eaDApEmOJQ"
            }
        },
        {
            "cell_type": "markdown",
            "source": [
                "![image](https://user-images.githubusercontent.com/123757632/231187559-53ca9c85-8c3b-4202-a67a-a4a1e16ef637.png)"
            ],
            "metadata": {
                "id": "NA9QLxFNnsAd"
            }
        },
        {
            "cell_type": "markdown",
            "source": [
                "Execution du Dag :\n",
                "\n",
                "![image](https://user-images.githubusercontent.com/123757632/231190861-ee3a4544-d9ab-4db0-9791-555cc627c35b.png)"
            ],
            "metadata": {
                "id": "f5O1Y55fqkfT"
            }
        },
        {
            "cell_type": "markdown",
            "source": [
                "Verification du log : \n",
                "\n",
                "![image](https://user-images.githubusercontent.com/123757632/231454475-bd4dcab0-6374-4bf6-b01e-27458b16c932.png)\n",
                "\n",
                "\n",
                "![image](https://user-images.githubusercontent.com/123757632/231454673-2dc96865-359e-41b5-b7e8-5e8f0c20f0b5.png)"
            ],
            "metadata": {
                "id": "a0Q2Z1krqzv5"
            }
        }
    ]
}