{
  "nbformat": 4,
  "nbformat_minor": 0,
  "metadata": {
    "colab": {
      "provenance": []
    },
    "kernelspec": {
      "name": "python3",
      "display_name": "Python 3"
    },
    "language_info": {
      "name": "python"
    }
  },
  "cells": [
    {
      "cell_type": "markdown",
      "source": [
        "# Dynamic Task Mapping : Création d’un DAG avec Simple task mapping"
      ],
      "metadata": {
        "id": "fJ_ZDJxBd5vx"
      }
    },
    {
      "cell_type": "markdown",
      "source": [
        "![simple](https://user-images.githubusercontent.com/123757632/231465297-6f71c9f6-468d-4afd-af7a-ed4d699ebd64.png)"
      ],
      "metadata": {
        "id": "2tD_V4pukf0s"
      }
    },
    {
      "cell_type": "markdown",
      "source": [
        "1 . Définir le DAG (Directed Acyclic Graph) Airflow qui sera planifiée pour s'exécuter quotidiennement à partir d'une date  : \n",
        "\n",
        "Création du DAG nommée \"single_map-download-ctx\" qui est planifiée pour s'exécuter quotidiennement à partir du 8 avril 2023."
      ],
      "metadata": {
        "id": "zwvP0_-kkh9W"
      }
    },
    {
      "cell_type": "code",
      "execution_count": null,
      "metadata": {
        "id": "hxU58S2mdtH5"
      },
      "outputs": [],
      "source": [
        "from airflow import DAG\n",
        "from airflow.decorators import task\n",
        "from datetime import datetime\n",
        "import pprint\n",
        "\n",
        "with DAG('single_map-download-ctx', start_date=datetime(2023, 4, 8), schedule_interval='@daily', catchup=False) as dag:"
      ]
    },
    {
      "cell_type": "markdown",
      "source": [
        "2 . Le DAG contient deux tâches définies en utilisant le décorateur \"@task\" qui permet de les traiter comme des tâches indépendantes qui peuvent être exécutées en parallèle :"
      ],
      "metadata": {
        "id": "VAjLGQFElKqS"
      }
    },
    {
      "cell_type": "code",
      "source": [
        "@task\n",
        "    def download_url(url: str):\n",
        "        import requests\n",
        "        response = requests.get(url)\n",
        "        content = response.content.decode('utf-8')\n",
        "        lines = content.splitlines()\n",
        "        return(lines)"
      ],
      "metadata": {
        "id": "uTMCasxylKV8"
      },
      "execution_count": null,
      "outputs": []
    },
    {
      "cell_type": "markdown",
      "source": [
        "La première tâche est \"download_url\" qui prend une URL en entrée, utilise la bibliothèque \"requests\" pour télécharger le contenu du fichier CSV correspondant, le décode en utilisant l'encodage UTF-8 et le divise en une liste de lignes. La fonction retourne ensuite cette liste pour la passer en entrée de la tâche suivante."
      ],
      "metadata": {
        "id": "3c1NE5BWlXaW"
      }
    },
    {
      "cell_type": "code",
      "source": [
        "@task\n",
        "    def print_content(content):                \n",
        "        for file in content:\n",
        "            print('---------------FILE-------------------')\n",
        "            print(file)\n",
        "            print('---------------------------------------')"
      ],
      "metadata": {
        "id": "Z_5rAVkFlaH_"
      },
      "execution_count": null,
      "outputs": []
    },
    {
      "cell_type": "markdown",
      "source": [
        "La deuxième tâche est \"print_content\" qui prend le contenu renvoyé par la tâche précédente en entrée et affiche chaque fichier sur la console en ajoutant une ligne de séparation pour une meilleure lisibilité."
      ],
      "metadata": {
        "id": "qMdLav5MmF8w"
      }
    },
    {
      "cell_type": "code",
      "source": [
        "files = download_url.expand(url=[\n",
        "                                        \"https://people.sc.fsu.edu/~jburkardt/data/csv/addresses.csv\", \n",
        "                                        \"https://people.sc.fsu.edu/~jburkardt/data/csv/grades.csv\", \n",
        "                                        \"https://people.sc.fsu.edu/~jburkardt/data/csv/taxables.csv\"\n",
        "                                        ])\n",
        "    print_content(files)"
      ],
      "metadata": {
        "id": "JhqSdMLJmNQv"
      },
      "execution_count": null,
      "outputs": []
    },
    {
      "cell_type": "markdown",
      "source": [
        "Ensuite, l'utilisation de la méthode \"expand\" pour exécuter la tâche \"download_url\" trois fois en parallèle, une fois pour chaque URL spécifiée dans la liste \"url\" passée en paramètre. Les résultats de ces trois exécutions sont ensuite combinés en une seule liste qui est passée en entrée à la tâche \"print_content\"."
      ],
      "metadata": {
        "id": "L4eaDApEmOJQ"
      }
    },
    {
      "cell_type": "markdown",
      "source": [
        "![image](https://user-images.githubusercontent.com/123757632/231187559-53ca9c85-8c3b-4202-a67a-a4a1e16ef637.png)"
      ],
      "metadata": {
        "id": "NA9QLxFNnsAd"
      }
    },
    {
      "cell_type": "markdown",
      "source": [
        "Execution du Dag :\n",
        "\n",
        "![image](https://user-images.githubusercontent.com/123757632/231190861-ee3a4544-d9ab-4db0-9791-555cc627c35b.png)"
      ],
      "metadata": {
        "id": "f5O1Y55fqkfT"
      }
    },
    {
      "cell_type": "markdown",
      "source": [
        "Verification du log : \n",
        "\n",
        "![image](https://user-images.githubusercontent.com/123757632/231454475-bd4dcab0-6374-4bf6-b01e-27458b16c932.png)\n",
        "\n",
        "\n",
        "![image](https://user-images.githubusercontent.com/123757632/231454673-2dc96865-359e-41b5-b7e8-5e8f0c20f0b5.png)"
      ],
      "metadata": {
        "id": "a0Q2Z1krqzv5"
      }
    }
  ]
}