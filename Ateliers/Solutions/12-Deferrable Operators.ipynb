{
    "nbformat": 4,
    "nbformat_minor": 0,
    "metadata": {
        "kernelspec": {
            "name": "python3",
            "display_name": "Python 3"
        },
        "language_info": {
            "name": "python"
        }
    },
    "cells": [
        {
            "cell_type": "markdown",
            "metadata": {
                "id": "view-in-github",
                "colab_type": "text"
            },
            "source": [
                "<a href=\"https://colab.research.google.com/github/kplr-training/Airflow/blob/main/Ateliers/Solutions/12-Deferrable%20Operators.ipynb\" target=\"_blank\"><img src=\"https://colab.research.google.com/assets/colab-badge.svg\" alt=\"Open In Colab\"/></a>"
            ]
        },
        {
            "cell_type": "markdown",
            "source": [
                "# Deferrable operators :  Cr\u00e9ation de DAGs planifier en utilisant Async Operator "
            ],
            "metadata": {
                "id": "wTocnbNUzs1n"
            }
        },
        {
            "cell_type": "markdown",
            "source": [
                "![deff](https://user-images.githubusercontent.com/123757632/232047531-5cb354b1-ce74-4a95-af34-009febf1fe20.png)"
            ],
            "metadata": {
                "id": "9K4U8pDfzl-B"
            }
        },
        {
            "cell_type": "markdown",
            "source": [
                "Dag 1 : "
            ],
            "metadata": {
                "id": "IU7ZI04Q0NWn"
            }
        },
        {
            "cell_type": "code",
            "source": [
                "from pendulum import datetime\n",
                "from airflow import DAG\n",
                "from airflow.sensors.date_time import DateTimeSensor\n",
                "\n",
                "with DAG(\n",
                "    \"sync_dag_1\",\n",
                "    start_date=datetime(2023, 4, 8, 15, 30),\n",
                "    end_date=datetime(2023, 4, 8, 15, 40),\n",
                "    schedule=\"* * * * *\",\n",
                "    catchup=True,\n",
                ") as dag:"
            ],
            "metadata": {
                "id": "3qDL-FxW1Q7A"
            },
            "execution_count": null,
            "outputs": []
        },
        {
            "cell_type": "markdown",
            "source": [
                "Definir un DAG (Directed Acyclic Graph) Airflow nomm\u00e9 \"sync_dag_1\". Le DAG est planifi\u00e9 pour s'ex\u00e9cuter toutes les minutes, avec un horaire d\u00e9fini comme \"* * * * *\", ce qui signifie qu'il s'ex\u00e9cutera \u00e0 chaque minute.\n",
                "\n",
                "Le DAG est configur\u00e9 pour commencer \u00e0 s'ex\u00e9cuter le 8 avril 2023 \u00e0 15h30 et se terminer le m\u00eame jour \u00e0 15h40. Le param\u00e8tre \"catchup\" est d\u00e9fini sur \"True\", ce qui signifie qu'Airflow ex\u00e9cutera les t\u00e2ches pr\u00e9c\u00e9dentes manqu\u00e9es (si elles existent) lors du d\u00e9marrage du DAG."
            ],
            "metadata": {
                "id": "2_o4gqKw1XAi"
            }
        },
        {
            "cell_type": "code",
            "source": [
                "sync_sensor = DateTimeSensor(\n",
                "        task_id=\"sync_task\",\n",
                "        target_time=\"\"\"{{ macros.datetime.utcnow() + macros.timedelta(minutes=10) }}\"\"\",\n",
                "    )"
            ],
            "metadata": {
                "id": "eMtHT_z31hjf"
            },
            "execution_count": null,
            "outputs": []
        },
        {
            "cell_type": "markdown",
            "source": [
                "Cr\u00e9e une instance de la classe DateTimeSensor d'Airflow appel\u00e9e \"sync_sensor\", qui est utilis\u00e9e pour attendre que la cible de temps sp\u00e9cifi\u00e9e soit atteinte avant de passer \u00e0 la t\u00e2che suivante dans le DAG.\n",
                "\n",
                "Le param\u00e8tre \"task_id\" est d\u00e9fini sur \"sync_task\", ce qui est un identifiant unique pour la t\u00e2che.\n",
                "\n",
                "Le param\u00e8tre \"target_time\" est d\u00e9fini en utilisant la syntaxe Jinja, qui est une syntaxe de mod\u00e8le utilis\u00e9e par Airflow pour d\u00e9finir des valeurs dynamiques. Dans ce cas, la cible de temps est d\u00e9finie comme \"macros.datetime.utcnow() + macros.timedelta(minutes=10)\", qui correspond \u00e0 l'heure actuelle plus 10 minutes. Cela signifie que la t\u00e2che attendra que 10 minutes se soient \u00e9coul\u00e9es depuis le d\u00e9but de l'ex\u00e9cution du DAG avant de passer \u00e0 la t\u00e2che suivante.\n",
                "\n",
                "En r\u00e9sum\u00e9, ce code cr\u00e9e une t\u00e2che de capteur de date et d'heure synchronis\u00e9e qui attend que 10 minutes se soient \u00e9coul\u00e9es avant de passer \u00e0 la t\u00e2che suivante dans le DAG.\n",
                "\n",
                "\n",
                "\n"
            ],
            "metadata": {
                "id": "-sg3LP1k1k8V"
            }
        },
        {
            "cell_type": "markdown",
            "source": [
                "Execution du Dag : \n",
                "\n",
                "Sur la capture d'\u00e9cran suivante, l'ex\u00e9cution du DAG produit 16 instances de t\u00e2ches en cours d'ex\u00e9cution, chacune contenant un capteur de date et d'heure actif (DateTimeSensor) occupant un emplacement de travail (worker slot).\n",
                "\n",
                "![image](https://user-images.githubusercontent.com/123757632/232053526-622ec6e5-01e8-4203-8dfd-3a72b02853a9.png)\n"
            ],
            "metadata": {
                "id": "2IyJxEBU2DhA"
            }
        },
        {
            "cell_type": "markdown",
            "source": [
                "Dag 2 : "
            ],
            "metadata": {
                "id": "15-BXiW93cfk"
            }
        },
        {
            "cell_type": "code",
            "source": [
                "from pendulum import datetime\n",
                "from airflow import DAG\n",
                "from airflow.sensors.date_time import DateTimeSensorAsync\n",
                "\n",
                "with DAG(\n",
                "    \"async_dag_2\",\n",
                "    start_date=datetime(2023, 4, 8, 15, 30),\n",
                "    end_date=datetime(2023, 4, 8, 15, 40),\n",
                "    schedule=\"* * * * *\",\n",
                "    catchup=True,\n",
                ") as dag:"
            ],
            "metadata": {
                "id": "7z-CB0w33ay_"
            },
            "execution_count": null,
            "outputs": []
        },
        {
            "cell_type": "markdown",
            "source": [
                "D\u00e9finir un DAG Airflow nomm\u00e9 \"async_dag_2\", qui est planifi\u00e9 pour s'ex\u00e9cuter toutes les minutes \u00e0 l'aide de l'horaire \"* * * * *\". Le DAG commencera \u00e0 s'ex\u00e9cuter le 8 avril 2023 \u00e0 15h30 et se terminera le m\u00eame jour \u00e0 15h40.\n",
                "\n",
                "Le param\u00e8tre \"catchup\" est d\u00e9fini sur \"True\", ce qui signifie qu'Airflow ex\u00e9cutera les t\u00e2ches pr\u00e9c\u00e9dentes manqu\u00e9es (si elles existent) lors du d\u00e9marrage du DAG."
            ],
            "metadata": {
                "id": "tKdV3OfX3ewu"
            }
        },
        {
            "cell_type": "code",
            "source": [
                "async_sensor = DateTimeSensorAsync(\n",
                "        task_id=\"async_task\",\n",
                "        target_time=\"\"\"{{ macros.datetime.utcnow() + macros.timedelta(minutes=10) }}\"\"\",\n",
                "    )"
            ],
            "metadata": {
                "id": "6Anz8Wjh3fCx"
            },
            "execution_count": null,
            "outputs": []
        },
        {
            "cell_type": "markdown",
            "source": [
                "Cr\u00e9e une instance de la classe DateTimeSensorAsync, qui est un capteur de temps asynchrone dans la biblioth\u00e8que Airflow. Le capteur attend que le temps cible soit atteint avant de d\u00e9clencher une t\u00e2che.\n",
                "\n",
                "L'instance est cr\u00e9\u00e9e avec les arguments suivants :\n",
                "\n",
                "- task_id : une cha\u00eene qui identifie la t\u00e2che dans le DAG.\n",
                "- target_time : une cha\u00eene de mod\u00e8les qui utilise les macros de date et d'heure d'Airflow pour d\u00e9finir le temps cible de ce capteur. Ici, le temps cible est d\u00e9fini comme \"macros.datetime.utcnow() + macros.timedelta(minutes=10)\", ce qui signifie que le capteur attendra 10 minutes \u00e0 partir de l'heure actuelle avant de d\u00e9clencher la t\u00e2che.\n",
                "\n",
                "Une fois la t\u00e2che d\u00e9clench\u00e9e, le flux de travail pourra continuer \u00e0 ex\u00e9cuter les autres t\u00e2ches qui d\u00e9pendent de cette t\u00e2che."
            ],
            "metadata": {
                "id": "m5GUBqNp3fbr"
            }
        },
        {
            "cell_type": "markdown",
            "source": [
                "Execution du Dag :\n",
                "\n",
                "\n",
                "Sur la capture d'\u00e9cran suivante, toutes les t\u00e2ches sont affich\u00e9es dans un \u00e9tat diff\u00e9r\u00e9 (violet). Les t\u00e2ches dans d'autres DAG peuvent utiliser les emplacements de travail disponibles, ce qui rend l'op\u00e9rateur diff\u00e9rable plus rentable et plus efficace en termes de co\u00fbts et de temps.\n",
                "\n",
                "\n",
                "![image](https://user-images.githubusercontent.com/123757632/232053153-47704f1c-77da-4bbf-850b-22b00fd34a52.png)"
            ],
            "metadata": {
                "id": "WhdM-ud94Vmh"
            }
        }
    ]
}