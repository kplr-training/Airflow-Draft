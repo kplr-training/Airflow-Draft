{
    "nbformat": 4,
    "nbformat_minor": 0,
    "metadata": {
        "kernelspec": {
            "name": "python3",
            "display_name": "Python 3"
        },
        "language_info": {
            "name": "python"
        }
    },
    "cells": [
        {
            "cell_type": "markdown",
            "metadata": {
                "id": "view-in-github",
                "colab_type": "text"
            },
            "source": [
                "<a href=\"https://colab.research.google.com/github/kplr-training/Airflow/blob/main/Ateliers/Solutions/07-Dynamic%20Task%20Mapping%20-%20Params.ipynb\" target=\"_blank\"><img src=\"https://colab.research.google.com/assets/colab-badge.svg\" alt=\"Open In Colab\"/></a>"
            ]
        },
        {
            "cell_type": "markdown",
            "source": [
                "# Dynamic Task Mapping\u202f: Gestion de fichiers avec l\u2019utilisation de Param\u00e8tres Constants et Simples "
            ],
            "metadata": {
                "id": "dYaurMNUpDuG"
            }
        },
        {
            "cell_type": "markdown",
            "source": [
                "![Diagramme sans nom-Page-7 drawio](https://user-images.githubusercontent.com/123757632/231465882-a97ab30c-8f97-4e7d-8ad8-138dff9db310.png)"
            ],
            "metadata": {
                "id": "XiCrHFHLpG2i"
            }
        },
        {
            "cell_type": "markdown",
            "source": [
                "1 . D\u00e9finir le DAG (Directed Acyclic Graph) Airflow qui sera planifi\u00e9e pour s'ex\u00e9cuter quotidiennement \u00e0 partir d'une date  : \n",
                "\n",
                "Cr\u00e9ation du DAG nomm\u00e9e \"const_plus_single_param\" qui est planifi\u00e9e pour s'ex\u00e9cuter quotidiennement \u00e0 partir du 8 avril 2023."
            ],
            "metadata": {
                "id": "riGwPzlGpOGM"
            }
        },
        {
            "cell_type": "code",
            "execution_count": null,
            "metadata": {
                "id": "A8eURgM7o-ln"
            },
            "outputs": [],
            "source": [
                "from airflow import DAG\n",
                "from airflow.decorators import task\n",
                "from airflow.operators.bash import BashOperator\n",
                "import random\n",
                "from datetime import datetime\n",
                "\n",
                "with DAG('const_plus_single_param', start_date=datetime(2023, 4, 8), schedule_interval='@daily', catchup=False) as dag:"
            ]
        },
        {
            "cell_type": "markdown",
            "source": [
                "2 . Le DAG contient deux t\u00e2ches d\u00e9finies en utilisant le d\u00e9corateur \"@task\" qui permet de les traiter comme des t\u00e2ches ind\u00e9pendantes qui peuvent \u00eatre ex\u00e9cut\u00e9es en parall\u00e8le :"
            ],
            "metadata": {
                "id": "TMBEps1PpfQa"
            }
        },
        {
            "cell_type": "code",
            "source": [
                "@task\n",
                "def generate_files():\n",
                "  return [f\"file_{nb}\" for nb in range(random.randint(2, 5))]"
            ],
            "metadata": {
                "id": "dW_EiNblqkXm"
            },
            "execution_count": null,
            "outputs": []
        },
        {
            "cell_type": "markdown",
            "source": [
                "La premi\u00e8re t\u00e2che nomm\u00e9e generate_files est cr\u00e9\u00e9e en utilisant le d\u00e9corateur task. Cette t\u00e2che g\u00e9n\u00e8re une liste de noms de fichiers al\u00e9atoires compris entre 2 et 5. La liste de noms de fichiers est retourn\u00e9e."
            ],
            "metadata": {
                "id": "5Kh0rMOdqpxX"
            }
        },
        {
            "cell_type": "code",
            "source": [
                "@task\n",
                "def download_file(path: str, file: str):\n",
                "  return (f\"echo '{path}/{file}' >> /tmp/out-const.txt\")"
            ],
            "metadata": {
                "id": "UPJAuMs2qxeN"
            },
            "execution_count": null,
            "outputs": []
        },
        {
            "cell_type": "markdown",
            "source": [
                "La deuxi\u00e8me t\u00e2che nomm\u00e9e download_file est cr\u00e9\u00e9e en utilisant le d\u00e9corateur task. Cette t\u00e2che prend en param\u00e8tre un chemin de fichier et un nom de fichier. La t\u00e2che ajoute le chemin complet du fichier g\u00e9n\u00e9r\u00e9 \u00e0 un fichier de sortie nomm\u00e9 \"/tmp/out-const.txt\"."
            ],
            "metadata": {
                "id": "bTXZOEt4qz_Y"
            }
        },
        {
            "cell_type": "code",
            "source": [
                "print_file = BashOperator.partial(task_id=\"print_file\", do_xcom_push=False).expand(\n",
                "bash_command=download_file.partial(path=\"files/partner\").expand(file=generate_files()))"
            ],
            "metadata": {
                "id": "P2QAQXqWq9hH"
            },
            "execution_count": null,
            "outputs": []
        },
        {
            "cell_type": "markdown",
            "source": [
                "La t\u00e2che print_file est cr\u00e9\u00e9e en utilisant l'op\u00e9rateur BashOperator.partial et task_id est d\u00e9fini sur \"print_file\". do_xcom_push=False est \u00e9galement sp\u00e9cifi\u00e9 pour \u00e9viter que la t\u00e2che pr\u00e9c\u00e9dente ne stocke des donn\u00e9es dans XCom. Le bash_command est cr\u00e9\u00e9 en utilisant download_file.partial pour sp\u00e9cifier le chemin et generate_files pour sp\u00e9cifier le nom du fichier. expand() est utilis\u00e9 pour \u00e9valuer dynamiquement les arguments de la commande Bash \u00e0 l'ex\u00e9cution."
            ],
            "metadata": {
                "id": "V2f8k8O8rCoL"
            }
        },
        {
            "cell_type": "code",
            "source": [
                "# Define the task that consumes the dataset\n",
                "check_files = BashOperator(\n",
                "  task_id=\"check_files\",\n",
                "  bash_command=\"cat /tmp/out-const.txt\",\n",
                "  retries=3,\n",
                ")"
            ],
            "metadata": {
                "id": "bltsvN2nrHcq"
            },
            "execution_count": null,
            "outputs": []
        },
        {
            "cell_type": "markdown",
            "source": [
                "La t\u00e2che check_files est cr\u00e9\u00e9e en utilisant l'op\u00e9rateur BashOperator. task_id est d\u00e9fini sur \"check_files\" et la commande Bash cat /tmp/out-const.txt est utilis\u00e9e pour afficher le contenu du fichier de sortie."
            ],
            "metadata": {
                "id": "ExPB2uXtrRNh"
            }
        },
        {
            "cell_type": "code",
            "source": [
                "print_file >> check_files"
            ],
            "metadata": {
                "id": "iHYzE7ZHriBi"
            },
            "execution_count": null,
            "outputs": []
        },
        {
            "cell_type": "markdown",
            "source": [
                "Enfin, print_file >> check_files est utilis\u00e9 pour sp\u00e9cifier que la t\u00e2che print_file doit \u00eatre ex\u00e9cut\u00e9e avant la t\u00e2che check_files dans le DAG."
            ],
            "metadata": {
                "id": "fQRzWRwwrktg"
            }
        },
        {
            "cell_type": "markdown",
            "source": [
                "![image](https://user-images.githubusercontent.com/123757632/231478409-d5506dae-1724-476b-a2a8-b035fa19ebd2.png)"
            ],
            "metadata": {
                "id": "dFcui1mGun-P"
            }
        },
        {
            "cell_type": "markdown",
            "source": [
                "Execution du Dag :\n",
                "\n",
                "![image](https://user-images.githubusercontent.com/123757632/231479677-3a312274-72aa-4443-9f7b-349e59f25fbd.png)"
            ],
            "metadata": {
                "id": "Ce6HKKfOur1A"
            }
        },
        {
            "cell_type": "markdown",
            "source": [
                "Verification du log : \n",
                "\n",
                "![image](https://user-images.githubusercontent.com/123757632/231479922-264cd436-6694-49fe-9874-537e19da20ff.png)"
            ],
            "metadata": {
                "id": "3pQ5ke9kvyvJ"
            }
        }
    ]
}