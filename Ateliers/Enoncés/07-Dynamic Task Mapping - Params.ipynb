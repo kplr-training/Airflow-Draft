{
    "nbformat": 4,
    "nbformat_minor": 0,
    "metadata": {
        "kernelspec": {
            "name": "python3",
            "display_name": "Python 3"
        },
        "language_info": {
            "name": "python"
        }
    },
    "cells": [
        {
            "cell_type": "markdown",
            "metadata": {
                "id": "view-in-github",
                "colab_type": "text"
            },
            "source": [
                "<a href=\"https://colab.research.google.com/github/kplr-training/Airflow/blob/main/Ateliers/Enonc%C3%A9s/07-Dynamic%20Task%20Mapping%20-%20Params.ipynb\" target=\"_blank\"><img src=\"https://colab.research.google.com/assets/colab-badge.svg\" alt=\"Open In Colab\"/></a>"
            ]
        },
        {
            "cell_type": "markdown",
            "source": [
                "# Dynamic Task Mapping\u202f: Gestion de fichiers avec l\u2019utilisation de Param\u00e8tres Constants et Simples "
            ],
            "metadata": {
                "id": "xklEmlQ_jz6a"
            }
        },
        {
            "cell_type": "markdown",
            "source": [
                "![Diagramme sans nom-Page-7 drawio](https://user-images.githubusercontent.com/123757632/231465882-a97ab30c-8f97-4e7d-8ad8-138dff9db310.png)"
            ],
            "metadata": {
                "id": "3mI4vT8Xj958"
            }
        },
        {
            "cell_type": "markdown",
            "source": [
                "D\u00e9finir un DAG (Directed Acyclic Graph) Airflow qui sera planifi\u00e9e pour s'ex\u00e9cuter quotidiennement \u00e0 partir d'une date pr\u00e9cise . Le DAG comprendra deux t\u00e2ches,\"generate_files\" et \"check_files\" :"
            ],
            "metadata": {
                "id": "faSPrsUSjybr"
            }
        },
        {
            "cell_type": "markdown",
            "source": [
                "- La premi\u00e8re t\u00e2che nomm\u00e9e \"generate_files\" qui g\u00e9n\u00e8re une liste de noms de fichiers al\u00e9atoires compris entre 2 et 5. Cette t\u00e2che sera une fonction @task.\n",
                "- La deuxi\u00e8me t\u00e2che nomm\u00e9e \"check_files\" qui affiche le contenu d'un fichier de sortie qui est rempli avec des chemins de fichiers g\u00e9n\u00e9r\u00e9s par la t\u00e2che pr\u00e9c\u00e9dente. Cette t\u00e2che sera un op\u00e9rateur BashOperator.\n",
                "\n",
                "La deuxi\u00e8me t\u00e2che \"check_files\" doit d\u00e9pendre de la premi\u00e8re t\u00e2che \"generate_files\". \n",
                "De plus, la premi\u00e8re t\u00e2che \"generate_files\" aura un param\u00e8tre pour sp\u00e9cifier le chemin du r\u00e9pertoire o\u00f9 les fichiers doivent \u00eatre stock\u00e9s. Les fichiers g\u00e9n\u00e9r\u00e9s seront stock\u00e9s dans le r\u00e9pertoire \"files/partner\". Le chemin complet de chaque fichier g\u00e9n\u00e9r\u00e9 sera enregistr\u00e9 dans un fichier de sortie nomm\u00e9 \"/tmp/out-const.txt\"."
            ],
            "metadata": {
                "id": "eqrTKRFMkMPI"
            }
        }
    ]
}