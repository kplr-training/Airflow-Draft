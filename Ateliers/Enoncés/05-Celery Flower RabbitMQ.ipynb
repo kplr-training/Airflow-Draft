{
  "nbformat": 4,
  "nbformat_minor": 0,
  "metadata": {
    "colab": {
      "provenance": []
    },
    "kernelspec": {
      "name": "python3",
      "display_name": "Python 3"
    },
    "language_info": {
      "name": "python"
    }
  },
  "cells": [
    {
      "cell_type": "markdown",
      "source": [
        "# Configuration Dag avec , CeleryExecutor , Rabbitmq "
      ],
      "metadata": {
        "id": "OKO1M7CHa615"
      }
    },
    {
      "cell_type": "markdown",
      "source": [
        "![rabbit](https://user-images.githubusercontent.com/123757632/232027029-b25aff2d-7740-4c77-91bf-49cc11b4c5ae.png)"
      ],
      "metadata": {
        "id": "hORZchPYa95F"
      }
    },
    {
      "cell_type": "markdown",
      "source": [
        "Définir deux DAGs qui seront planifiées pour s'exécuter quotidiennement à partir d'une date précise . \n",
        "\n",
        "Dag 1 : \n",
        "- Contient une tâche nommée **write_task** qui appelle la fonction **write_to_rabbitmq()**. Cette tâche est une instance de la classe PythonOperator et ajoutée à l'aide de la méthode add_task().\n",
        "\n",
        "- La fonction write_to_rabbitmq() utilise la bibliothèque Kombu pour envoyer un message à une file d'attente RabbitMQ. Cette fonction ouvre une connexion avec RabbitMQ, crée une file d'attente nommée 'myqueue', établit une liaison avec un échange nommé 'myexchange', puis envoie un message de type dict qui contient un horodatage et un message de données.\n",
        "\n",
        "Dag 2 : \n",
        "\n",
        "- Contient une tâche Airflow de type PythonOperator appelée **read_from_rabbitmq** dans la DAG dag. Cette tâche exécutera la fonction **read_from_rabbitmq()** en utilisant python_callable. Il définit également un délai d'exécution de 15 secondes avec execution_timeout.\n",
        "\n",
        "- Une fonction **read_from_rabbitmq()** essaie de se connecter à RabbitMQ et d'écouter la file d'attente nommée myqueue en utilisant la bibliothèque Kombu. Elle utilise la fonction **process_message()** comme callback pour traiter chaque message reçu.\n",
        "\n",
        "- La fonction **process_message()** est appelée pour chaque message reçu et elle enregistre un message de journal pour indiquer que le message a été reçu avec succès. Elle confirme également la réception du message en appelant la méthode **ack()** de l'objet message. Cela permet à RabbitMQ de supprimer le message de la file d'attente une fois qu'il a été traité avec succès."
      ],
      "metadata": {
        "id": "0GkxVcUCk4f2"
      }
    }
  ]
}