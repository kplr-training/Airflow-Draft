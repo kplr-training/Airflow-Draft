{
    "nbformat": 4,
    "nbformat_minor": 0,
    "metadata": {
        "kernelspec": {
            "name": "python3",
            "display_name": "Python 3"
        },
        "language_info": {
            "name": "python"
        }
    },
    "cells": [
        {
            "cell_type": "markdown",
            "metadata": {
                "id": "view-in-github",
                "colab_type": "text"
            },
            "source": [
                "<a href=\"https://colab.research.google.com/github/kplr-training/Airflow/blob/main/Ateliers/Enonc%C3%A9s/06-Dynamic%20Task%20Mapping%20-%20Simple.ipynb\" target=\"_blank\"><img src=\"https://colab.research.google.com/assets/colab-badge.svg\" alt=\"Open In Colab\"/></a>"
            ]
        },
        {
            "cell_type": "markdown",
            "source": [
                "# Dynamic Task Mapping\u202f: Cr\u00e9ation d\u2019un DAG avec Simple task mapping"
            ],
            "metadata": {
                "id": "E-mOVyzAb_c7"
            }
        },
        {
            "cell_type": "markdown",
            "source": [
                "![simple](https://user-images.githubusercontent.com/123757632/231465297-6f71c9f6-468d-4afd-af7a-ed4d699ebd64.png)\n",
                "\n",
                "D\u00e9finir un DAG (Directed Acyclic Graph) Airflow qui sera planifi\u00e9e pour s'ex\u00e9cuter quotidiennement \u00e0 partir d'une date pr\u00e9cise . Le DAG comprendra deux t\u00e2ches, \"download_url\" et \"print_content\":\n",
                "\n",
                "- La premi\u00e8re t\u00e2che, \"download_url\", utilise la biblioth\u00e8que \"requests\" pour t\u00e9l\u00e9charger le contenu de trois fichiers CSV \u00e0 partir d'URL sp\u00e9cifiques et renvoie le contenu de chaque fichier sous forme de liste de lignes de texte.\n",
                "\n",
                "- La deuxi\u00e8me t\u00e2che, \"print_content\", prend le contenu renvoy\u00e9 par la t\u00e2che pr\u00e9c\u00e9dente en entr\u00e9e et imprime chaque fichier \u00e0 la console, en ajoutant une ligne de s\u00e9paration entre chaque fichier pour une meilleure lisibilit\u00e9.\n",
                "\n",
                "Utilisez \u00e9galement la m\u00e9thode **\"expand\"** pour ex\u00e9cuter la t\u00e2che \"download_url\" trois fois, une fois pour chaque URL sp\u00e9cifi\u00e9e, en parall\u00e8le. Les r\u00e9sultats de ces trois ex\u00e9cutions sont ensuite combin\u00e9s en une seule liste qui est pass\u00e9e en entr\u00e9e \u00e0 la t\u00e2che \"print_content\".\n",
                "\n",
                "URLs : \n",
                "- \"https://people.sc.fsu.edu/~jburkardt/data/csv/addresses.csv\", \n",
                "- \"https://people.sc.fsu.edu/~jburkardt/data/csv/grades.csv\", \n",
                "- \"https://people.sc.fsu.edu/~jburkardt/data/csv/taxables.csv\""
            ],
            "metadata": {
                "id": "gJb5yj4fcEMa"
            }
        }
    ]
}