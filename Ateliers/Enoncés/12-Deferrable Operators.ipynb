{
  "nbformat": 4,
  "nbformat_minor": 0,
  "metadata": {
    "colab": {
      "provenance": []
    },
    "kernelspec": {
      "name": "python3",
      "display_name": "Python 3"
    },
    "language_info": {
      "name": "python"
    }
  },
  "cells": [
    {
      "cell_type": "markdown",
      "source": [
        "# Deferrable operators :  Création de DAGs planifier en utilisant Async Operator "
      ],
      "metadata": {
        "id": "CDGnzjiSzhEV"
      }
    },
    {
      "cell_type": "markdown",
      "source": [
        "![deff](https://user-images.githubusercontent.com/123757632/232047531-5cb354b1-ce74-4a95-af34-009febf1fe20.png)"
      ],
      "metadata": {
        "id": "3b9i2dNlzh2X"
      }
    },
    {
      "cell_type": "markdown",
      "source": [
        "Définir deux DAGs qui seront planifiées pour s'exécuter quotidiennement à partir d'une date précise .\n",
        "\n",
        "- Dag 1 : Le DAG utilise un capteur de date et d'heure appelé \"DateTimeSensor\", qui attend que la cible de temps soit atteinte avant de passer à la tâche suivante. La cible de temps est définie comme \"macros.datetime.utcnow() + macros.timedelta(minutes=10)\", qui correspond à l'heure actuelle plus 10 minutes.\n",
        "\n",
        "- Dag 2 : Le DAG utilise un capteur de date et d'heure asynchrone appelé \"DateTimeSensorAsync\", qui attend que la cible de temps soit atteinte avant de passer à la tâche suivante. La cible de temps est définie comme \"macros.datetime.utcnow() + macros.timedelta(minutes=10)\", qui correspond à l'heure actuelle plus 10 minutes.\n",
        "\n",
        "le but de cet atelier est de conclure la différence entre  \"DateTimeSensor\" et \"DateTimeSensorAsync\"."
      ],
      "metadata": {
        "id": "x93AwTLe0OZs"
      }
    }
  ]
}