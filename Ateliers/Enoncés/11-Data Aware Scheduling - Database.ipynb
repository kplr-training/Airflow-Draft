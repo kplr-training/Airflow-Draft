{
  "nbformat": 4,
  "nbformat_minor": 0,
  "metadata": {
    "colab": {
      "provenance": []
    },
    "kernelspec": {
      "name": "python3",
      "display_name": "Python 3"
    },
    "language_info": {
      "name": "python"
    }
  },
  "cells": [
    {
      "cell_type": "markdown",
      "source": [
        "# Dynamic DAG Creation : Création dynamique de DAGs pour écrire et lire des données dans PostgreSQL en utilisant les hooks "
      ],
      "metadata": {
        "id": "4f8wqV4dAI1r"
      }
    },
    {
      "cell_type": "markdown",
      "source": [
        "![pgaware_multi_dynamic_hook](https://user-images.githubusercontent.com/123757632/231905847-f4620b8c-b165-4d35-9b9e-afa22bc73a71.png)"
      ],
      "metadata": {
        "id": "jVCorx6nAZBq"
      }
    },
    {
      "cell_type": "markdown",
      "source": [
        "- Création dynamique : \n",
        "  -  Création de DAGs dynamiques en fonction des connexions disponibles dans Airflow pour une base de données PostgreSQL. \n",
        "  - Pour chaque connexion, un DAG est créé avec un nom unique \"pg_dynamic_\" suivi du nom de la connexion. \n",
        "  - Le DAG ainsi créé exécute une tâche \"write_to_postgres\" qui se connecte à la base de données correspondante et insère une ligne de données dans une table spécifique."
      ],
      "metadata": {
        "id": "8QWoIhKlu-I8"
      }
    },
    {
      "cell_type": "markdown",
      "source": [
        "- Définir une fonction create_dag() qui prend en entrée un identifiant de DAG, un horaire, une connexion PostgreSQL et des arguments par défaut, et qui retourne un objet DAG. Cette fonction crée une table dans la base de données PostgreSQL spécifiée, insère des données dans cette table et lit ces données."
      ],
      "metadata": {
        "id": "rF9upA8avxDO"
      }
    },
    {
      "cell_type": "markdown",
      "source": [
        "- Récupérer les connexions à la base de données PostgreSQL qui ont un identifiant qui contient la chaîne de caractères \"MY_DATABASE_CONN\". Pour chaque connexion, créer un DAG dynamiquement en appelant la fonction create_dag(). Les DAGs créés ont un identifiant \"pg_dynamic_\" suivi de l'identifiant de connexion PostgreSQL."
      ],
      "metadata": {
        "id": "InO7dsfH66Ki"
      }
    },
    {
      "cell_type": "markdown",
      "source": [
        "- Récupérer les tables de chaque connexion PostgreSQL créée et créer un objet Dataset pour chacune d'entre elles. Regrouper tous les objets Dataset dans une liste all_pg_datasets. "
      ],
      "metadata": {
        "id": "_2I3LYNK83KT"
      }
    },
    {
      "cell_type": "markdown",
      "source": [
        "- Parcourir la liste des connexions conns, extraire le suffixe de chaque nom de connexion pour former le nom de la table correspondante, puis crée une instance de Dataset pour chaque connexion en utilisant la classe Dataset d'Airflow. Cette liste de datasets est stockée dans la variable all_pg_datasets."
      ],
      "metadata": {
        "id": "UI9c6Skx9JNH"
      }
    },
    {
      "cell_type": "markdown",
      "source": [
        "- Crée une instance de DAG qui a pour schedule la liste all_pg_datasets créée précédemment. La liste all_pg_datasets contient des objets Dataset qui pointent vers des tables dans une base de données Postgres. Cette méthode permet de définir dynamiquement les tables à lire en fonction des connexions trouvées précédemment.\n"
      ],
      "metadata": {
        "id": "Lp8bZvnu9lBZ"
      }
    },
    {
      "cell_type": "markdown",
      "source": [
        "- Crée une fonction qui effectue une lecture de données depuis des tables PostgreSQL stockées dans plusieurs bases de données différentes, qui sont identifiées dans la liste conns.Elle bouclera sur chaque élément de conns, extrait le suffixe de nom de base de données à partir de l'élément, compose le nom de la table à partir du suffixe, crée un hook de connexion Postgres à la base de données, exécute une requête SQL pour extraire toutes les données de la table, puis boucle sur chaque ligne extraite et affiche son contenu."
      ],
      "metadata": {
        "id": "KmDt7Y8--FCN"
      }
    },
    {
      "cell_type": "markdown",
      "source": [
        "- Definir un PythonOperator, qui appelle la fonction read_from_postgres() définie précédemment lorsque la tâche est exécutée."
      ],
      "metadata": {
        "id": "27Y4hKx3-Nos"
      }
    }
  ]
}