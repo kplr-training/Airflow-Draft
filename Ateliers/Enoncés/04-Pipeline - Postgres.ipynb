{
  "nbformat": 4,
  "nbformat_minor": 0,
  "metadata": {
    "colab": {
      "provenance": []
    },
    "kernelspec": {
      "name": "python3",
      "display_name": "Python 3"
    },
    "language_info": {
      "name": "python"
    }
  },
  "cells": [
    {
      "cell_type": "markdown",
      "source": [
        "# Construction d'une pipeline d'exécution avec PostgreSQL "
      ],
      "metadata": {
        "id": "o6lFtokOMzYI"
      }
    },
    {
      "cell_type": "markdown",
      "source": [
        "![atelier4](https://user-images.githubusercontent.com/123757632/231912146-232774b4-c30c-4901-b4c1-ea27db59122b.png)"
      ],
      "metadata": {
        "id": "-AZaLXvTMtjM"
      }
    },
    {
      "cell_type": "markdown",
      "source": [
        "### Tâches de création de table\n",
        "\n",
        "Il est possible d'utiliser PostgresOperator afin de définir des tâches qui créeront des tables dans la base de données postgres.\n",
        "\n",
        "Il est prévu de créer deux tables : une pour faciliter le nettoyage des données (employees_temp) et une autre pour stocker les données nettoyées (employees).\n",
        "\n",
        "* Tâche 1 :  \n",
        "  - Tâche nommée \"create_employees_table\". \n",
        "  - Cette tâche est associée à une instance de PostgreSQL. \n",
        "  - La tâche exécute la commande SQL pour créer une table nommée \"employees\"  si elle n'existe pas avec des colonnes : \n",
        "      * \"Serial Number\" NUMERIC PRIMARY KEY,\n",
        "      * \"Company Name\" TEXT,\n",
        "      * \"Employee Markme\" TEXT,\n",
        "      * \"Description\" TEXT,\n",
        "      * \"Leave\" INTEGER\n",
        "\n",
        "* Tâche 2 : \n",
        "  - Tâche nommée \"create_employees_temp_table\".\n",
        "  - Cette tâche est associée à une instance de PostgreSQL. \n",
        "  - La tâche exécute une commande SQL pour supprimer une table nommée \"employees_temp\" si elle existe, puis crée une nouvelle table portant le même nom avec des colonnes : \n",
        "      * \"Serial Number\" NUMERIC PRIMARY KEY,\n",
        "      * \"Company Name\" TEXT,\n",
        "      * \"Employee Markme\" TEXT,\n",
        "      * \"Description\" TEXT,\n",
        "      * \"Leave\" INTEGER"
      ],
      "metadata": {
        "id": "ERei4t-MM61x"
      }
    },
    {
      "cell_type": "markdown",
      "source": [
        "### Tâche de récupération de données"
      ],
      "metadata": {
        "id": "PcU7qOskM8MZ"
      }
    },
    {
      "cell_type": "markdown",
      "source": [
        "Les données sont récupérées, enregistrées dans un fichier sur l'instance Airflow, puis chargées à partir de ce fichier dans une table intermédiaire afin de pouvoir exécuter les étapes de nettoyage des données.\n",
        "\n"
      ],
      "metadata": {
        "id": "alKx9CwOM_yr"
      }
    },
    {
      "cell_type": "markdown",
      "source": [
        "Définir une fonction nommée **\"get_data()\"** qui est décorée par **\"@task\"**, indiquant qu'il s'agit d'une tâche Airflow. \n",
        "\n",
        "* Cette tâche télécharge un fichier CSV à partir de l'URL \"https://raw.githubusercontent.com/apache/airflow/main/docs/apache-airflow/tutorial/pipeline_example.csv\" , \n",
        "\n",
        "* Utilise la bibliothèque **\"requests\"** pour envoyer une requête GET à l'URL et récupérer les données. \n"
      ],
      "metadata": {
        "id": "-IbToaktNFl7"
      }
    },
    {
      "cell_type": "code",
      "source": [
        "url = \"https://raw.githubusercontent.com/apache/airflow/main/docs/apache-airflow/tutorial/pipeline_example.csv\""
      ],
      "metadata": {
        "id": "V0lUfDCpNGVl"
      },
      "execution_count": null,
      "outputs": []
    },
    {
      "cell_type": "markdown",
      "source": [
        "* Les données sont ensuite écrites dans un fichier situé dans le chemin \"data_path\", qui est défini pour être \"/opt/airflow/dags/files/employees.csv\". Si le chemin n'existe pas, il est créé .  "
      ],
      "metadata": {
        "id": "2InC0nsQNIkC"
      }
    },
    {
      "cell_type": "code",
      "source": [
        "data_path = \"/opt/airflow/dags/files/employees.csv\"\n",
        "os.makedirs(os.path.dirname(data_path), exist_ok=True)"
      ],
      "metadata": {
        "id": "pSYiobEVNMof"
      },
      "execution_count": null,
      "outputs": []
    },
    {
      "cell_type": "markdown",
      "source": [
        "\n",
        "* Ensuite, la tâche utilise la bibliothèque **\"psycopg2\"** pour se connecter à la base de données PostgreSQL avec l'identifiant de connexion. \n"
      ],
      "metadata": {
        "id": "b8TuLWQNNNHQ"
      }
    },
    {
      "cell_type": "code",
      "source": [
        "postgres_hook = PostgresHook(postgres_conn_id=\"******\")\n",
        "conn = postgres_hook.get_conn()\n",
        "cur = conn.cursor()"
      ],
      "metadata": {
        "id": "wYBLqIL4NPjb"
      },
      "execution_count": null,
      "outputs": []
    },
    {
      "cell_type": "markdown",
      "source": [
        "\n",
        "* Elle insère les données du fichier CSV dans une table temporaire nommée **\"employees_temp\"** à l'aide de la méthode \"copy_expert\" qui permet de copier les données du fichier dans la table.\n",
        "    \n",
        "                \n"
      ],
      "metadata": {
        "id": "n9Zw-kuZNR-Q"
      }
    },
    {
      "cell_type": "code",
      "source": [
        "with open(data_path, \"r\") as file:\n",
        "        cur.copy_expert(\n",
        "            \"COPY employees_temp FROM STDIN WITH CSV HEADER DELIMITER AS ',' QUOTE '\\\"'\",\n",
        "            file,\n",
        "        )"
      ],
      "metadata": {
        "id": "jwfaRjrgNa66"
      },
      "execution_count": null,
      "outputs": []
    },
    {
      "cell_type": "markdown",
      "source": [
        "* Enfin, la tâche confirme la transaction en appelant \"conn.commit()\"."
      ],
      "metadata": {
        "id": "UIWZc7C3NdXU"
      }
    },
    {
      "cell_type": "markdown",
      "source": [
        "### Tâche de fusion de données\n",
        "\n",
        "Des enregistrements complètement uniques sont sélectionnés à partir des données récupérées, puis il est vérifié si des numéros de série d'employés sont déjà présents dans la base de données. Si tel est le cas, ces enregistrements sont mis à jour avec les nouvelles données."
      ],
      "metadata": {
        "id": "pRy-wQY5Ng7o"
      }
    },
    {
      "cell_type": "markdown",
      "source": [
        "Définir une fonction nommée \"merge_data()\" qui est décorée par \"@task\", indiquant qu'il s'agit d'une tâche Airflow.\n",
        "\n",
        "* La tâche fusionne les données d'une table temporaire appelée **employees_temp** dans une table permanente appelée **employees**. Pour ce faire, elle sélectionne toutes les lignes distinctes de employees_temp et les insère dans employees, ou met à jour les lignes existantes s'il y a un conflit sur la colonne \"Serial Number\".\n",
        "\n",
        "* La tâche est exécutée à l'aide d'un **PostgresHook**, qui se connecte à une base de données **PostgreSQL** et exécute des requêtes SQL. \n",
        "\n",
        "* La requête SQL utilisée dans cette tâche est définie dans la variable de requête et utilise la syntaxe INSERT INTO ... "
      ],
      "metadata": {
        "id": "NKiyOusfNim1"
      }
    },
    {
      "cell_type": "code",
      "source": [
        "query = \"\"\"\n",
        "        INSERT INTO employees\n",
        "        SELECT *\n",
        "        FROM (\n",
        "            SELECT DISTINCT *\n",
        "            FROM employees_temp\n",
        "        ) t\n",
        "        ON CONFLICT (\"Serial Number\") DO UPDATE\n",
        "        SET\n",
        "              \"Employee Markme\" = excluded.\"Employee Markme\",\n",
        "              \"Description\" = excluded.\"Description\",\n",
        "              \"Leave\" = excluded.\"Leave\";\n",
        "    \"\"\""
      ],
      "metadata": {
        "id": "Ea_Iwi5mNolQ"
      },
      "execution_count": null,
      "outputs": []
    },
    {
      "cell_type": "markdown",
      "source": [
        "* ON CONFLICT de Postgres pour gérer les conflits lors de l'insertion de données dans la table employees.\n",
        "Si la tâche s'exécute avec succès, elle renvoie 0. Si une exception se produit, elle renvoie 1. (Utilisez Exception)"
      ],
      "metadata": {
        "id": "4ZGC-cKGNru8"
      }
    },
    {
      "cell_type": "markdown",
      "source": [
        "### Finalisation du DAG"
      ],
      "metadata": {
        "id": "52vUt1ibNuFL"
      }
    },
    {
      "cell_type": "markdown",
      "source": [
        "* Utiliser l'opérateur **>>** pour définir les dépendances entre les tâches. Cela indique que les tâches à gauche de l'opérateur doivent être exécutées avant la tâche à droite de l'opérateur.\n",
        "\n",
        "* Plus précisément, la ligne de code établit les dépendances suivantes :\n",
        "\n",
        "  * Les tâches create_employees_table et create_employees_temp_table doivent être exécutées avant la tâche get_data().\n",
        "  * La tâche get_data() doit être exécutée avant la tâche merge_data()."
      ],
      "metadata": {
        "id": "vO-MfVWbNwQu"
      }
    }
  ]
}