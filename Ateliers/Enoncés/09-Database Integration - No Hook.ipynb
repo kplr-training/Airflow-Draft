{
  "nbformat": 4,
  "nbformat_minor": 0,
  "metadata": {
    "colab": {
      "provenance": []
    },
    "kernelspec": {
      "name": "python3",
      "display_name": "Python 3"
    },
    "language_info": {
      "name": "python"
    }
  },
  "cells": [
    {
      "cell_type": "markdown",
      "source": [
        "# Database Integration : DAGs pour écrire et lire des données dans PostgreSQL sans utilisation des hooks "
      ],
      "metadata": {
        "id": "JVENncXer3LZ"
      }
    },
    {
      "cell_type": "markdown",
      "source": [
        "![pgaware_no hooks](https://user-images.githubusercontent.com/123757632/231477957-4ca75320-1980-4ca1-bf44-452400f88e76.png)"
      ],
      "metadata": {
        "id": "8X8iN5hLuTnF"
      }
    },
    {
      "cell_type": "markdown",
      "source": [
        "Définir deux Dags pour écrire et lire des données depuis une table PostgreSQ .\n"
      ],
      "metadata": {
        "id": "Ksr6ZSQcuWZr"
      }
    },
    {
      "cell_type": "markdown",
      "source": [
        "-  DAG 1 : \n",
        "\n",
        "Contient une tâche nommée \"write_task\". Cette tâche utilise la librairie psycopg2 pour écrire des données dans une base de données PostgreSQL.\n",
        "\n",
        "La tâche \"write_task\" est exécutée par un objet PythonOperator qui appelle la fonction \"write_to_postgres\".Cette fonction effectue les opérations suivantes :\n",
        "\n",
        " - Se connecter à la base de données PostgreSQL en utilisant les informations de connexion fournies\n",
        "- Créer une table nommée 'my_test_table' si elle n'existe pas déjà\n",
        "- Insérer une ligne de données avec les valeurs \"value1\" et \"value2\"\n",
        "- Fermer la connexion à la base de données\n",
        "\n",
        "L'objet PythonOperator a également un argument \"outlets\" qui est une liste contenant un objet Dataset. L'objet Dataset est utilisé pour spécifier la connexion à la base de données PostgreSQL, en fournissant l'URL de la base de données et le nom de la table.\n",
        "\n",
        "- DAG 2 :\n",
        "\n",
        "Contient une tâche nommée \"read_task\" qui est un opérateur PythonOperator qui appelle la fonction 'read_from_postgres'. Cette fonction effectue les opérations suivantes :\n",
        "\n",
        "- Se connecter à la base de données PostgreSQL en utilisant les informations de connexion fournies\n",
        "- Sélectionner toutes les lignes de la table 'my_test_table'\n",
        "- Afficher chaque ligne de données récupérée dans la console\n",
        "- Fermer la connexion à la base de données\n",
        "\n",
        "En résumé, le premier DAG est responsable d'écrire une ligne de données dans une table PostgreSQL et le deuxième DAG est responsable de lire toutes les données de cette table PostgreSQL."
      ],
      "metadata": {
        "id": "MmW6tsARwsTb"
      }
    }
  ]
}