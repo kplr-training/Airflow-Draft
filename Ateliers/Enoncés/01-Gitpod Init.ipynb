{
  "nbformat": 4,
  "nbformat_minor": 0,
  "metadata": {
    "colab": {
      "provenance": []
    },
    "kernelspec": {
      "name": "python3",
      "display_name": "Python 3"
    },
    "language_info": {
      "name": "python"
    }
  },
  "cells": [
    {
      "cell_type": "markdown",
      "source": [
        "# Creation et utilisation d'un compte Gitpod"
      ],
      "metadata": {
        "id": "2bFaLb2NMieG"
      }
    },
    {
      "cell_type": "markdown",
      "source": [
        "- Aller sur : [Gitpod](https://www.gitpod.io/)\n",
        "- Cliquer sur Start for free : \n",
        "\n",
        "![image](https://user-images.githubusercontent.com/123749462/225635172-ed9deb65-be66-4386-a900-a993a814b6d8.png)"
      ],
      "metadata": {
        "id": "TdefRoyhM3b3"
      }
    },
    {
      "cell_type": "markdown",
      "source": [
        "- Cliquer sur Continue with Github : \n",
        "\n",
        "![image](https://user-images.githubusercontent.com/123749462/225637304-eff2de81-6739-447f-8ebe-fa1ed0009269.png)"
      ],
      "metadata": {
        "id": "G4eOYir8M5sD"
      }
    },
    {
      "cell_type": "markdown",
      "source": [
        "- Cliquer sur Authorize gitpod-io :\n",
        "\n",
        "![image](https://user-images.githubusercontent.com/123749462/225637621-65e29c37-d7ad-41fa-a6e2-ef398f6e96d6.png)"
      ],
      "metadata": {
        "id": "th0lOZfCM-fU"
      }
    },
    {
      "cell_type": "markdown",
      "source": [
        "- Ajouter votre Nom > puis cliquer sur continue : \n",
        "\n",
        "![image](https://user-images.githubusercontent.com/123749462/225638708-270133d1-34e3-4508-9d51-2d9f7f7215b0.png)"
      ],
      "metadata": {
        "id": "F4fRopOXNAm1"
      }
    },
    {
      "cell_type": "markdown",
      "source": [
        "- Cliquer sur Continue : \n",
        "\n",
        "![image](https://user-images.githubusercontent.com/123749462/225639253-d7df048d-f1a8-41e1-9884-aa69ef708787.png)"
      ],
      "metadata": {
        "id": "6MLPKMFzNDOg"
      }
    },
    {
      "cell_type": "markdown",
      "source": [
        "- Cliquer sur continue : \n",
        "\n",
        "![image](https://user-images.githubusercontent.com/123749462/225639739-4907dad5-f97f-43a8-b962-afc90a56e14e.png)"
      ],
      "metadata": {
        "id": "iDIw-ZV2NG91"
      }
    },
    {
      "cell_type": "markdown",
      "source": [
        "- Cliquer sur New Workspace : \n",
        "\n",
        "![image](https://user-images.githubusercontent.com/123749462/225640157-2cc63eb3-42b5-4b4d-ba45-661239f344d9.png)"
      ],
      "metadata": {
        "id": "lax9VI1SNJa7"
      }
    },
    {
      "cell_type": "markdown",
      "source": [
        "- Cliquer sur Context URL :\n",
        "\n",
        "![image](https://user-images.githubusercontent.com/123749462/225642485-cefe1ba2-d892-4a01-89c6-eb90d932db91.png)"
      ],
      "metadata": {
        "id": "9fs0r0fbNMFP"
      }
    },
    {
      "cell_type": "markdown",
      "source": [
        "- Crée un repository vide sur Github \n",
        "- Copier et Coller l'URLr: \n",
        "\n",
        "![image](https://user-images.githubusercontent.com/123749462/225642811-59d55165-5d8c-4575-842d-0e941bae80e1.png)"
      ],
      "metadata": {
        "id": "N5IN3QPhNPFx"
      }
    },
    {
      "cell_type": "markdown",
      "source": [
        "- Changer la capacité de la machine :\n",
        "\n",
        "![image](https://user-images.githubusercontent.com/123757632/231158861-b2808e9b-9ddd-42d4-9329-4c042c92a5bd.png)"
      ],
      "metadata": {
        "id": "l4b405iaNX7z"
      }
    },
    {
      "cell_type": "markdown",
      "source": [
        "- Cliquer sur New Workspace : \n",
        "\n",
        "![image](https://user-images.githubusercontent.com/123749462/225643474-8194aa42-3bf5-48fd-a525-2468db393483.png)"
      ],
      "metadata": {
        "id": "c8Xqo-tGO6dE"
      }
    }
  ]
}