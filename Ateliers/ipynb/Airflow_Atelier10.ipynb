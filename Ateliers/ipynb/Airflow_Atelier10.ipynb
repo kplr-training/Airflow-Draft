{
  "nbformat": 4,
  "nbformat_minor": 0,
  "metadata": {
    "colab": {
      "provenance": []
    },
    "kernelspec": {
      "name": "python3",
      "display_name": "Python 3"
    },
    "language_info": {
      "name": "python"
    }
  },
  "cells": [
    {
      "cell_type": "markdown",
      "source": [
        "# Data Aware Scheduling : Création et consommation d'un dataset pour le data-aware\n",
        "\n"
      ],
      "metadata": {
        "id": "B_a5FkgNS9Nu"
      }
    },
    {
      "cell_type": "markdown",
      "source": [
        "![dataaware](https://user-images.githubusercontent.com/123757632/231875385-9cf19dc7-c1fc-4b6a-8076-ed5417389188.png)"
      ],
      "metadata": {
        "id": "3jdtoEggTTUY"
      }
    },
    {
      "cell_type": "markdown",
      "source": [
        "Définir deux DAG (Directed Acyclic Graphs) distincts, \"producer_aware\" et \"consumer_aware\" :  \n",
        "\n",
        "- Le premier DAG (\"producer_aware\") génère un ensemble de données à intervalles réguliers et stocke ces données dans un fichier CSV situé dans \"/tmp/data.csv\".Il est composé de deux tâches BashOperator : \n",
        "    - \"generate_dataset\" : Génère une ligne de données dans le fichier \"/tmp/data.csv\".\n",
        "    - \"check_file_task\" : Vérifie que le fichier existe et affiche son contenu à la console. \n",
        "      \n",
        "La tâche \"generate_dataset\" est exécutée en premier, puis la tâche \"check_file_task\" est exécutée.\n",
        "\n",
        "- Le deuxième DAG (\"consumer_aware\") surveille ce fichier CSV et exécute une tâche qui lit les données de ce fichier lorsqu'il est mis à jour. Contient qu'une seule tâche BashOperator : \"consume_dataset\" :     \n",
        "  -  Cette tâche lit les données stockées dans le fichier CSV \"/tmp/data.csv\" en exécutant la commande \"cat /tmp/data.csv\" dans un terminal. Cette tâche est configurée pour être exécutée chaque fois que le fichier \"/tmp/data.csv\" est mis à jour."
      ],
      "metadata": {
        "id": "00NJ-m6RVQ27"
      }
    }
  ]
}