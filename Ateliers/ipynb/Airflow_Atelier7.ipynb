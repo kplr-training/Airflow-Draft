{
  "nbformat": 4,
  "nbformat_minor": 0,
  "metadata": {
    "colab": {
      "provenance": []
    },
    "kernelspec": {
      "name": "python3",
      "display_name": "Python 3"
    },
    "language_info": {
      "name": "python"
    }
  },
  "cells": [
    {
      "cell_type": "markdown",
      "source": [
        "# Dynamic Task Mapping : Gestion de fichiers avec l’utilisation de Paramètres Constants et Simples "
      ],
      "metadata": {
        "id": "xklEmlQ_jz6a"
      }
    },
    {
      "cell_type": "markdown",
      "source": [
        "![Diagramme sans nom-Page-7 drawio](https://user-images.githubusercontent.com/123757632/231465882-a97ab30c-8f97-4e7d-8ad8-138dff9db310.png)"
      ],
      "metadata": {
        "id": "3mI4vT8Xj958"
      }
    },
    {
      "cell_type": "markdown",
      "source": [
        "Définir un DAG (Directed Acyclic Graph) Airflow qui sera planifiée pour s'exécuter quotidiennement à partir d'une date précise . Le DAG comprendra deux tâches,\"generate_files\" et \"check_files\" :"
      ],
      "metadata": {
        "id": "faSPrsUSjybr"
      }
    },
    {
      "cell_type": "markdown",
      "source": [
        "- La première tâche nommée \"generate_files\" qui génère une liste de noms de fichiers aléatoires compris entre 2 et 5. Cette tâche sera une fonction @task.\n",
        "- La deuxième tâche nommée \"check_files\" qui affiche le contenu d'un fichier de sortie qui est rempli avec des chemins de fichiers générés par la tâche précédente. Cette tâche sera un opérateur BashOperator.\n",
        "\n",
        "La deuxième tâche \"check_files\" doit dépendre de la première tâche \"generate_files\". \n",
        "De plus, la première tâche \"generate_files\" aura un paramètre pour spécifier le chemin du répertoire où les fichiers doivent être stockés. Les fichiers générés seront stockés dans le répertoire \"files/partner\". Le chemin complet de chaque fichier généré sera enregistré dans un fichier de sortie nommé \"/tmp/out-const.txt\"."
      ],
      "metadata": {
        "id": "eqrTKRFMkMPI"
      }
    }
  ]
}