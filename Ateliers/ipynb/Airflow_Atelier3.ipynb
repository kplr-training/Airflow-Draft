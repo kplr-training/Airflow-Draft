{
  "nbformat": 4,
  "nbformat_minor": 0,
  "metadata": {
    "colab": {
      "provenance": []
    },
    "kernelspec": {
      "name": "python3",
      "display_name": "Python 3"
    },
    "language_info": {
      "name": "python"
    }
  },
  "cells": [
    {
      "cell_type": "markdown",
      "source": [
        "# Dags Decoupling: Création de Dags simple combiner en un seul Dag "
      ],
      "metadata": {
        "id": "2rNrnC8hHPtF"
      }
    },
    {
      "cell_type": "markdown",
      "source": [
        "![atelier3](https://user-images.githubusercontent.com/123757632/231910388-d2d83283-8a29-454c-9b3e-223787b8477b.png)"
      ],
      "metadata": {
        "id": "JGifzITnIlU-"
      }
    },
    {
      "cell_type": "markdown",
      "source": [
        "## Création Dags et définition des dépendances entre les DAG dans Airflow"
      ],
      "metadata": {
        "id": "5EuoRt0FHglZ"
      }
    },
    {
      "cell_type": "markdown",
      "source": [
        "Lorsque deux DAG ont des relations de dépendance, il convient d'envisager de les combiner en un seul DAG, qui est généralement plus simple à comprendre. Airflow offre également une meilleure représentation visuelle de dépendances pour les tâches sur le même DAG. Cependant, il n'est parfois pas pratique de mettre tous les éléments connexes tâches sur le même DAG."
      ],
      "metadata": {
        "id": "xxAonTITHkA3"
      }
    },
    {
      "cell_type": "markdown",
      "source": [
        "## 1. Création des deux dags Parents 'dag en amont'"
      ],
      "metadata": {
        "id": "xGpJhIimHoih"
      }
    },
    {
      "cell_type": "markdown",
      "source": [
        "Pour la création des deux dags parents , il faut commencer par la création des deux fichirs 'parent_dag_1.py' et 'parent_dag_2.py' dans le dossier 'dags' .\n",
        "\n"
      ],
      "metadata": {
        "id": "k55X9uXwHsIH"
      }
    },
    {
      "cell_type": "code",
      "source": [
        "└───dags|── parent_dag_1.py                  \n",
        "        └── parent_dag_2.py"
      ],
      "metadata": {
        "id": "gTEW8Z6RHs3O"
      },
      "execution_count": null,
      "outputs": []
    },
    {
      "cell_type": "markdown",
      "source": [
        "### . parent_dag1.py\n",
        "\n",
        "Le DAG **'dag_1'** sera planifié pour s'exécuter toutes les minutes à partir d'un moment donné dans le futur grâce à l'argument \n",
        "schedule_interval='*/1 * * * *' .\n",
        "\n",
        "Le DAG comportera **deux tâches** : **\"hello_python\"** et **\"goodbye_dummy\"**.\n",
        "\n",
        "* La tâche \"hello_python\" sera une **opération Python** 'PythonOperator' qui appellera une fonction \"greeting\" pour enregistrer un message de journalisation à travers **python_callable=greeting**.\n",
        "\n",
        "\n",
        "```\n",
        "def greeting():\n",
        "    \"\"\"Just check that the DAG is started in the log.\"\"\"\n",
        "    import logging\n",
        "    logging.info('Bonjour le monde depuis le DAG 1')\n",
        "```\n",
        "\n",
        "\n",
        "* La tâche \"au revoir\" sera un **opérateur fictif** 'DummyOperator' qui indiquera la fin du DAG.\n",
        "\n",
        "Enfin, la tâche \"hello_python\" sera liée **(via l'opérateur \">>\")** à la tâche \"goodbye_dummy\", ce qui signifie que la tâche \"goodbye_dummy\"  ne sera exécutée qu'après la réussite de la tâche \"hello_python\"."
      ],
      "metadata": {
        "id": "RHqeDeX6HwHf"
      }
    },
    {
      "cell_type": "markdown",
      "source": [
        "### . parent_dag2.py\n",
        "\n",
        "\n",
        "Le DAG **'dag_2'** sera planifié pour s'exécuter toutes les minutes à partir d'un moment donné dans le futur grâce à l'argument \n",
        "schedule_interval='*/1 * * * *' .\n",
        "\n",
        "Le DAG comportera **deux tâches** : **\"hello_python\"** et **\"goodbye_dummy\"**.\n",
        "\n",
        "* La tâche \"hello_python\" sera une **opération Python** 'PythonOperator' qui appellera une fonction \"greeting\" pour enregistrer un message de journalisation à travers **python_callable=greeting**.\n",
        "\n",
        "\n",
        "```\n",
        "def greeting():\n",
        "    \"\"\"Just check that the DAG is started in the log.\"\"\"\n",
        "    import logging\n",
        "    logging.info('Bonjour le monde depuis le DAG 2')\n",
        "```\n",
        "\n",
        "\n",
        "* La tâche \"au revoir\" sera un **opérateur fictif** 'DummyOperator' qui indiquera la fin du DAG.\n",
        "\n",
        "Enfin, la tâche \"hello_python\" sera liée **(via l'opérateur \">>\")** à la tâche \"goodbye_dummy\", ce qui signifie que la tâche \"goodbye_dummy\"  ne sera exécutée qu'après la réussite de la tâche \"hello_python\"."
      ],
      "metadata": {
        "id": "4rmB62miH2OJ"
      }
    },
    {
      "cell_type": "markdown",
      "source": [
        "### 2 . Création du dag enfant 'dag en aval'\n"
      ],
      "metadata": {
        "id": "jjsSmUidH4YX"
      }
    },
    {
      "cell_type": "code",
      "source": [
        "└───dags|── parent_dag_1.py                  \n",
        "        └── parent_dag_2.py\n",
        "        └── child_master_dag.py"
      ],
      "metadata": {
        "id": "_HOqyi1FH95S"
      },
      "execution_count": null,
      "outputs": []
    },
    {
      "cell_type": "markdown",
      "source": [
        "### . child_master_dag.py\n",
        "\n",
        "Le DAG sera planifié pour s'exécuter toutes les minutes à partir d'un moment donné dans le futur grâce à l'argument schedule_interval='*/1 * * * *'.\n",
        "\n",
        "Le DAG comporte trois tâches : \n",
        "* **Deux capteurs externes \"externalsensor1, externalsensor2\" et un opérateur fictif \"goodbye_dummy\".** \n",
        "* Les capteurs externes sont utilisés pour surveiller l'état des DAGs **\"dag_1\"** et **\"dag_2\"**. Ils sont créés en utilisant **ExternalTaskSensor** et sont configurés pour attendre que les deux DAGs soient terminés **(external_task_id=None)**. Les capteurs vérifieront également l'existence des tâches cibles **(check_existence=True)** et se mettront en pause si l'attente dépasse 120 secondes **(timeout=120)**.\n",
        "\n",
        "* L'opérateur fictif est un **DummyOperator** nommé **\"goodbye_master\"** et indique la fin du DAG.\n",
        "\n",
        "Enfin, **les capteurs externes** sont liés **(via l'opérateur >>)** à l'opérateur fictif, ce qui signifie que l'opérateur fictif ne sera exécuté que lorsque les deux capteurs auront réussi à surveiller l'état des deux DAGs.\n",
        "</br>\n",
        "\n",
        "Le DAG \"Dag_master\" servira ainsi à déclencher les DAGs \"dag_1\" et \"dag_2\" et à effectuer des actions si les deux DAGs réussissent."
      ],
      "metadata": {
        "id": "qsxy_qaGH8KY"
      }
    }
  ]
}