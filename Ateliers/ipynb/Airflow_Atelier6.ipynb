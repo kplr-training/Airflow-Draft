{
  "nbformat": 4,
  "nbformat_minor": 0,
  "metadata": {
    "colab": {
      "provenance": []
    },
    "kernelspec": {
      "name": "python3",
      "display_name": "Python 3"
    },
    "language_info": {
      "name": "python"
    }
  },
  "cells": [
    {
      "cell_type": "markdown",
      "source": [
        "# Dynamic Task Mapping : Création d’un DAG avec Simple task mapping"
      ],
      "metadata": {
        "id": "E-mOVyzAb_c7"
      }
    },
    {
      "cell_type": "markdown",
      "source": [
        "![simple](https://user-images.githubusercontent.com/123757632/231465297-6f71c9f6-468d-4afd-af7a-ed4d699ebd64.png)\n",
        "\n",
        "Définir un DAG (Directed Acyclic Graph) Airflow qui sera planifiée pour s'exécuter quotidiennement à partir d'une date précise . Le DAG comprendra deux tâches, \"download_url\" et \"print_content\":\n",
        "\n",
        "- La première tâche, \"download_url\", utilise la bibliothèque \"requests\" pour télécharger le contenu de trois fichiers CSV à partir d'URL spécifiques et renvoie le contenu de chaque fichier sous forme de liste de lignes de texte.\n",
        "\n",
        "- La deuxième tâche, \"print_content\", prend le contenu renvoyé par la tâche précédente en entrée et imprime chaque fichier à la console, en ajoutant une ligne de séparation entre chaque fichier pour une meilleure lisibilité.\n",
        "\n",
        "Utilisez également la méthode **\"expand\"** pour exécuter la tâche \"download_url\" trois fois, une fois pour chaque URL spécifiée, en parallèle. Les résultats de ces trois exécutions sont ensuite combinés en une seule liste qui est passée en entrée à la tâche \"print_content\".\n",
        "\n",
        "URLs : \n",
        "- \"https://people.sc.fsu.edu/~jburkardt/data/csv/addresses.csv\", \n",
        "- \"https://people.sc.fsu.edu/~jburkardt/data/csv/grades.csv\", \n",
        "- \"https://people.sc.fsu.edu/~jburkardt/data/csv/taxables.csv\""
      ],
      "metadata": {
        "id": "gJb5yj4fcEMa"
      }
    }
  ]
}