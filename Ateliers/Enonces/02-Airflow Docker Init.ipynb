{
    "nbformat": 4,
    "nbformat_minor": 0,
    "metadata": {
        "kernelspec": {
            "name": "python3",
            "display_name": "Python 3"
        },
        "language_info": {
            "name": "python"
        }
    },
    "cells": [
        {
            "cell_type": "markdown",
            "metadata": {
                "id": "view-in-github",
                "colab_type": "text"
            },
            "source": [
                "<a href=\"https://colab.research.google.com/github/kplr-training/Airflow/blob/main/Ateliers/Enonces/02-Airflow%20Docker%20Init.ipynb\" target=\"_blank\"><img src=\"https://colab.research.google.com/assets/colab-badge.svg\" alt=\"Open In Colab\"/></a>"
            ]
        },
        {
            "cell_type": "markdown",
            "source": [
                "## Configurer Apache Airflow avec Docker-Compose \n",
                "### 1 . Avant de commencer \n",
                "\n",
                "Cette proc\u00e9dure suppose une familiarit\u00e9 avec Docker et Docker Compose.\n",
                "\n",
                "Docker :  Une plateforme de virtualisation de conteneurs qui permet d'ex\u00e9cuter des applications dans des environnements isol\u00e9s, appel\u00e9s conteneurs, afin de faciliter le d\u00e9ploiement et la gestion d'applications sur diff\u00e9rents syst\u00e8mes d'exploitation et infrastructures.\n",
                "\n",
                "Docker-compose : Est un outil de gestion de conteneurs qui permet de d\u00e9finir et de g\u00e9rer plusieurs conteneurs Docker en m\u00eame temps\n",
                "\n",
                "### 2 . R\u00e9cup\u00e9ration docker-compose.yaml\n",
                "\n",
                "Pour le d\u00e9ploiement d'Airflow sur Docker Compose, il est n\u00e9cessaire de r\u00e9cup\u00e9rer le fichier docker-compose.yaml\n",
                "\n",
                "```\n",
                "curl -LfO 'https://airflow.apache.org/docs/apache-airflow/2.5.1/docker-compose.yaml'\n",
                "```\n",
                "\n",
                "Ce fichier contient plusieurs d\u00e9finitions de service:\n",
                "\n",
                "airflow-init : Le service d'initialisation.\n",
                "\n",
                "airflow-scheduler : Le planificateur surveilletoutes les t\u00e2ches et les DAG, puis d\u00e9clenche le les instances de t\u00e2ches une fois leurs d\u00e9pendances termin\u00e9es.\n",
                "\n",
                "![image](https://user-images.githubusercontent.com/123757632/225338366-ccd82410-0ea6-44af-98a4-371f537bc1b6.png)\n",
                "\n",
                "airflow-webserver : Le serveur Web est disponible sur http://localhost:8080.\n",
                "\n",
                "![image](https://user-images.githubusercontent.com/123757632/225338693-3a69dcf3-0b09-49bd-9ed8-aa739a454a35.png)\n",
                "\n",
                "airflow-worker : Le travailleur qui ex\u00e9cute les t\u00e2ches donn\u00e9es par le planificateur.\n",
                "\n",
                "![image](https://user-images.githubusercontent.com/123757632/225338878-5a359306-abd1-4502-bd82-8882184586d7.png)\n",
                "\n",
                "postgres : La base de donn\u00e9es.\n",
                "\n",
                "![image](https://user-images.githubusercontent.com/123757632/225339186-906134a6-a76e-411f-b621-9339c7d1d87c.png)\n",
                "\n",
                "redis - Les redis :  courtier qui transmet les messages du planificateur au travailleur.\n",
                "\n",
                "![image](https://user-images.githubusercontent.com/123757632/225339462-e9f1e990-fda7-471a-885d-4b75f7a3c3dc.png)\n",
                "\n",
                "### 3 . Initialisation de l'environnement \n",
                "\n",
                "Avant de d\u00e9marrer Airflow pour la premi\u00e8re fois, vous devez pr\u00e9parer votre environnement, c'est-\u00e0-dire cr\u00e9er les fichiers n\u00e9cessaires, r\u00e9pertoires et initialiser la base de donn\u00e9es.\n",
                "\n",
                "```\n",
                "mkdir -p ./dags ./logs ./plugins\n",
                "echo -e \"AIRFLOW_UID=$(id -u)\" > .env\n",
                "```\n",
                "\n",
                "La premi\u00e8re commande cr\u00e9e trois r\u00e9pertoires dans le r\u00e9pertoire actuel (./), nomm\u00e9ment dags, logs et plugins. L'option -p signifie que les r\u00e9pertoires parents seront \u00e9galement cr\u00e9\u00e9s si n\u00e9cessaire.\n",
                "\n",
                "La deuxi\u00e8me commande cr\u00e9e un fichier nomm\u00e9 .env dans le r\u00e9pertoire actuel et y \u00e9crit une variable d'environnement appel\u00e9e AIRFLOW_UID contenant l'ID utilisateur de l'utilisateur courant\n",
                "\n",
                "![image](https://user-images.githubusercontent.com/123757632/225340586-cdca88dd-4977-44e1-b66d-d064c402d9d9.png)\n",
                "\n",
                "\"dags\" : C'est un r\u00e9pertoire o\u00f9 vous pouvez stocker des d\u00e9finitions de t\u00e2ches d'Airflow,qui sont des workflows \u00e9crits en Python. Dans ce r\u00e9pertoire, vous pouvez cr\u00e9er un fichier Python pour chaque t\u00e2che ou un groupe de t\u00e2ches li\u00e9es.\n",
                "\n",
                "\"logs\" : Ce r\u00e9pertoire est utilis\u00e9 par Airflow pour stocker les fichiers de journalisation (logs) g\u00e9n\u00e9r\u00e9s lors de l'ex\u00e9cution des t\u00e2ches. \n",
                "\n",
                "\"plugins\" : Ce r\u00e9pertoire est utilis\u00e9 pour stocker des plugins personnalis\u00e9s pour Airflow. Les plugins sont des modules Python qui \u00e9tendent les fonctionnalit\u00e9s d'Airflow, tels que des connecteurs personnalis\u00e9s ou des op\u00e9rateurs personnalis\u00e9s.\n",
                "\n",
                "### 4 . Initialiser Airflow\n",
                "\n",
                "Sur tous les syst\u00e8mes d'exploitation, vous devez ex\u00e9cuter les migrations de base de donn\u00e9es et cr\u00e9er le premier compte utilisateur.\n",
                "\n",
                "```\n",
                "docker compose up airflow-init\n",
                "```\n",
                "\n",
                "Une fois l'initialisation termin\u00e9e, vous devriez voir un message comme celui-ci:\n",
                "\n",
                "```\n",
                "airflow-init_1       | Upgrades done\n",
                "airflow-init_1       | Admin user airflow created\n",
                "airflow-init_1       | 2.5.1\n",
                "start_airflow-init_1 exited with code 0\n",
                "```\n",
                "\n",
                "### 5 . Ex\u00e9cution d'un Airflow\n",
                "\n",
                "Vous pouvez maintenant d\u00e9marrer tous les services avec :\n",
                "\n",
                "```\n",
                "docker compose up -d\n",
                "```\n",
                "\n",
                "![image](https://user-images.githubusercontent.com/123757632/230577261-3c692020-4522-49f2-896b-1ca293559dd7.png)\n",
                "\n",
                "Pour ouvrir un lien dans Gitpod, vous pouvez simplement cliquer sur le lien. Gitpod ouvrira automatiquement le lien dans un nouvel onglet de votre navigateur dans l'environnement Gitpod. \n",
                "\n",
                "![image](https://user-images.githubusercontent.com/123757632/225343489-bcaa89aa-9f13-46b7-bbfb-a4e592ee71e6.png)\n",
                "\n",
                "Vous pouvez v\u00e9rifier l'\u00e9tat des conteneurs et vous assurer qu'aucun conteneur n'est dans un \u00e9tat malsain:\n",
                "\n",
                "```\n",
                "docker compose ps\n",
                "```\n",
                "\n",
                "![image](https://user-images.githubusercontent.com/123757632/225344913-b2055e69-8a42-4f40-9162-60d21ec1c784.png)"
            ],
            "metadata": {
                "id": "EVdsEsZLUABF"
            }
        },
        {
            "cell_type": "markdown",
            "source": [
                "### L'interface utilisateurs\n",
                "\n",
                "#### Dag View\n",
                "  - Liste des DAG de votre environnement et ensemble de raccourcis vers des pages utiles. \n",
                "  - Il est possible de visualiser rapidement le nombre pr\u00e9cis de t\u00e2ches r\u00e9ussies, \u00e9chou\u00e9es ou en cours d'ex\u00e9cution.\n",
                "\n",
                "![image](https://user-images.githubusercontent.com/123757632/231165285-6c291fa7-6b8e-4a16-8524-9e9a3c9da8d7.png)\n",
                "\n",
                "Pour ne pas charger les examples par d\u00e9faut , veuillez remplacer la valeur true par false dans la ligne 61 du ficher docker-compose.yaml :\n",
                "\n",
                "```\n",
                "AIRFLOW__CORE__LOAD_EXAMPLES: 'false'\n",
                "```\n",
                "\n",
                "puis r\u00e9executer les commandes : \n",
                "\n",
                "```\n",
                "docker compose up airflow-init\n",
                "```\n",
                "et \n",
                "\n",
                "```\n",
                "docker compose up -d\n",
                "```\n",
                "\n",
                "![image](https://user-images.githubusercontent.com/123757632/231167184-55e38e52-2229-463a-9bc5-d981d87e4c5a.png)"
            ],
            "metadata": {
                "id": "2godpnMvU9V0"
            }
        },
        {
            "cell_type": "markdown",
            "source": [
                "#### Dataset View \n",
                "\n",
                "- Une liste combin\u00e9e des ensembles de donn\u00e9es actuels ainsi qu'un graphique \n",
                "illustrant comment ils sont produits et consomm\u00e9s par les DAG.\n",
                "\n",
                "- En cliquant sur un ensemble de donn\u00e9es dans la liste ou le graphique, celui-ci sera mis en \u00e9vidence ainsi que ses relations, et la liste sera filtr\u00e9e pour afficher l'historique r\u00e9cent des instances de t\u00e2ches qui ont mis \u00e0 jour cet ensemble de donn\u00e9es et si cela a d\u00e9clench\u00e9 d'autres ex\u00e9cutions de DAG.\n",
                "\n",
                "![image](https://user-images.githubusercontent.com/123757632/231167619-faccda43-50f4-451f-a699-f886142ca562.png)"
            ],
            "metadata": {
                "id": "FGPZQFcVXTGw"
            }
        },
        {
            "cell_type": "markdown",
            "source": [
                "#### Grid View \n",
                "\n",
                "- Un graphique en barres et une repr\u00e9sentation en grille du DAG qui s'\u00e9tend dans le temps. \n",
                "- La rang\u00e9e sup\u00e9rieure est un graphique des DAG Runs par dur\u00e9e, et en dessous, les instances de t\u00e2ches. \n",
                "- Si un pipeline est en retard, vous pouvez rapidement voir o\u00f9 se situent les diff\u00e9rentes \u00e9tapes et identifier celles qui bloquent.\n",
                "\n",
                "\n",
                "![image](https://user-images.githubusercontent.com/123757632/231167669-6457209e-cf7e-4e70-b6e9-75a2beadff03.png)"
            ],
            "metadata": {
                "id": "AST3qYz7X8bt"
            }
        },
        {
            "cell_type": "markdown",
            "source": [
                "#### Graph View \n",
                "\n",
                "- La vue graphique permet de visualiser les d\u00e9pendances de votre DAG et leur \u00e9tat actuel pour une ex\u00e9cution sp\u00e9cifique.\n",
                "\n",
                "\n",
                "![image](https://user-images.githubusercontent.com/123757632/231167702-035c7ce5-83f5-4b19-bcff-cdc275425b64.png)"
            ],
            "metadata": {
                "id": "cDiA8nwiYJnV"
            }
        },
        {
            "cell_type": "markdown",
            "source": [
                "#### Variable View \n",
                "\n",
                "- La vue des variables vous permet de lister, cr\u00e9er, \u00e9diter ou supprimer les paires cl\u00e9-valeur d'une variable utilis\u00e9e pendant les jobs. \n",
                "- La valeur d'une variable sera masqu\u00e9e si la cl\u00e9 contient des mots tels que ('password', 'secret', 'passwd', 'authorization', 'api_key', 'apikey', 'access_token') par d\u00e9faut, mais peut \u00eatre configur\u00e9e pour \u00eatre affich\u00e9e en clair. \n",
                "\n",
                "![image](https://user-images.githubusercontent.com/123757632/231167725-59486066-3838-4aa4-a586-7430d162456d.png)\n"
            ],
            "metadata": {
                "id": "SLusLC8IYYK-"
            }
        },
        {
            "cell_type": "markdown",
            "source": [
                "#### Gantt View \n",
                "\n",
                "- Le diagramme de Gantt permet d'analyser la dur\u00e9e et le chevauchement des t\u00e2ches, et d'identifier rapidement les goulots d'\u00e9tranglement ainsi que les zones o\u00f9 la majeure partie du temps est d\u00e9pens\u00e9e pour des ex\u00e9cutions de DAG sp\u00e9cifiques.\n",
                "\n",
                "![image](https://user-images.githubusercontent.com/123757632/231167755-11f3e1c4-7a1e-4ed9-8aae-1655790151df.png)\n"
            ],
            "metadata": {
                "id": "jBy4giBsYlcO"
            }
        },
        {
            "cell_type": "markdown",
            "source": [
                "#### Task Duration \n",
                "\n",
                "- La dur\u00e9e de chaque t\u00e2che pour les N derni\u00e8res ex\u00e9cutions est affich\u00e9e dans cette vue. \n",
                "- Cela permet de rep\u00e9rer les valeurs aberrantes et de comprendre rapidement o\u00f9 le temps est principalement d\u00e9pens\u00e9 dans votre DAG sur plusieurs ex\u00e9cutions.\n",
                "\n",
                "\n",
                "![image](https://user-images.githubusercontent.com/123757632/231167789-65f8aeec-1b4a-4ab6-95f8-9ed28e9443df.png)"
            ],
            "metadata": {
                "id": "AL8ZG1qNYxEp"
            }
        },
        {
            "cell_type": "markdown",
            "source": [
                "#### Code View\n",
                "\n",
                "- La transparence est essentielle. \n",
                "- Bien que le code de la pipeline soit stock\u00e9 dans un contr\u00f4le de source, cette fonctionnalit\u00e9 permet d'acc\u00e9der rapidement au code g\u00e9n\u00e9rant le DAG et fournit des informations suppl\u00e9mentaires.\n",
                "\n",
                "\n",
                "![image](https://user-images.githubusercontent.com/123757632/231167853-ed4d3287-6ab1-416f-a4ec-7044b050b43a.png)"
            ],
            "metadata": {
                "id": "cQy8QtAGY9ps"
            }
        }
    ]
}