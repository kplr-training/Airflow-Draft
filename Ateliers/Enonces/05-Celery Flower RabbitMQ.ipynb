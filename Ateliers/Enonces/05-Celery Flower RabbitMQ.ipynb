{
    "nbformat": 4,
    "nbformat_minor": 0,
    "metadata": {
        "kernelspec": {
            "name": "python3",
            "display_name": "Python 3"
        },
        "language_info": {
            "name": "python"
        }
    },
    "cells": [
        {
            "cell_type": "markdown",
            "metadata": {
                "id": "view-in-github",
                "colab_type": "text"
            },
            "source": [
                "<a href=\"https://colab.research.google.com/github/kplr-training/Airflow/blob/main/Ateliers/Enonc%C3%A9s/05-Celery%20Flower%20RabbitMQ.ipynb\" target=\"_blank\"><img src=\"https://colab.research.google.com/assets/colab-badge.svg\" alt=\"Open In Colab\"/></a>"
            ]
        },
        {
            "cell_type": "markdown",
            "source": [
                "# Configuration Dag avec , CeleryExecutor , Rabbitmq "
            ],
            "metadata": {
                "id": "OKO1M7CHa615"
            }
        },
        {
            "cell_type": "markdown",
            "source": [
                "![rabbit](https://user-images.githubusercontent.com/123757632/232027029-b25aff2d-7740-4c77-91bf-49cc11b4c5ae.png)"
            ],
            "metadata": {
                "id": "hORZchPYa95F"
            }
        },
        {
            "cell_type": "markdown",
            "source": [
                "D\u00e9finir deux DAGs qui seront planifi\u00e9es pour s'ex\u00e9cuter quotidiennement \u00e0 partir d'une date pr\u00e9cise . \n",
                "\n",
                "Dag 1 : \n",
                "- Contient une t\u00e2che nomm\u00e9e **write_task** qui appelle la fonction **write_to_rabbitmq()**. Cette t\u00e2che est une instance de la classe PythonOperator et ajout\u00e9e \u00e0 l'aide de la m\u00e9thode add_task().\n",
                "\n",
                "- La fonction write_to_rabbitmq() utilise la biblioth\u00e8que Kombu pour envoyer un message \u00e0 une file d'attente RabbitMQ. Cette fonction ouvre une connexion avec RabbitMQ, cr\u00e9e une file d'attente nomm\u00e9e 'myqueue', \u00e9tablit une liaison avec un \u00e9change nomm\u00e9 'myexchange', puis envoie un message de type dict qui contient un horodatage et un message de donn\u00e9es.\n",
                "\n",
                "Dag 2 : \n",
                "\n",
                "- Contient une t\u00e2che Airflow de type PythonOperator appel\u00e9e **read_from_rabbitmq** dans la DAG dag. Cette t\u00e2che ex\u00e9cutera la fonction **read_from_rabbitmq()** en utilisant python_callable. Il d\u00e9finit \u00e9galement un d\u00e9lai d'ex\u00e9cution de 15 secondes avec execution_timeout.\n",
                "\n",
                "- Une fonction **read_from_rabbitmq()** essaie de se connecter \u00e0 RabbitMQ et d'\u00e9couter la file d'attente nomm\u00e9e myqueue en utilisant la biblioth\u00e8que Kombu. Elle utilise la fonction **process_message()** comme callback pour traiter chaque message re\u00e7u.\n",
                "\n",
                "- La fonction **process_message()** est appel\u00e9e pour chaque message re\u00e7u et elle enregistre un message de journal pour indiquer que le message a \u00e9t\u00e9 re\u00e7u avec succ\u00e8s. Elle confirme \u00e9galement la r\u00e9ception du message en appelant la m\u00e9thode **ack()** de l'objet message. Cela permet \u00e0 RabbitMQ de supprimer le message de la file d'attente une fois qu'il a \u00e9t\u00e9 trait\u00e9 avec succ\u00e8s."
            ],
            "metadata": {
                "id": "0GkxVcUCk4f2"
            }
        }
    ]
}