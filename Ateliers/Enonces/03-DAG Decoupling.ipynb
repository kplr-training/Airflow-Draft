{
    "nbformat": 4,
    "nbformat_minor": 0,
    "metadata": {
        "kernelspec": {
            "name": "python3",
            "display_name": "Python 3"
        },
        "language_info": {
            "name": "python"
        }
    },
    "cells": [
        {
            "cell_type": "markdown",
            "metadata": {
                "id": "view-in-github",
                "colab_type": "text"
            },
            "source": [
                "<a href=\"https://colab.research.google.com/github/kplr-training/Airflow/blob/main/Ateliers/Enonces/03-DAG%20Decoupling.ipynb\" target=\"_blank\"><img src=\"https://colab.research.google.com/assets/colab-badge.svg\" alt=\"Open In Colab\"/></a>"
            ]
        },
        {
            "cell_type": "markdown",
            "source": [
                "# Dags Decoupling: Cr\u00e9ation de Dags simple combiner en un seul Dag "
            ],
            "metadata": {
                "id": "2rNrnC8hHPtF"
            }
        },
        {
            "cell_type": "markdown",
            "source": [
                "![atelier3](https://user-images.githubusercontent.com/123757632/231910388-d2d83283-8a29-454c-9b3e-223787b8477b.png)"
            ],
            "metadata": {
                "id": "JGifzITnIlU-"
            }
        },
        {
            "cell_type": "markdown",
            "source": [
                "## Cr\u00e9ation Dags et d\u00e9finition des d\u00e9pendances entre les DAG dans Airflow"
            ],
            "metadata": {
                "id": "5EuoRt0FHglZ"
            }
        },
        {
            "cell_type": "markdown",
            "source": [
                "Lorsque deux DAG ont des relations de d\u00e9pendance, il convient d'envisager de les combiner en un seul DAG, qui est g\u00e9n\u00e9ralement plus simple \u00e0 comprendre. Airflow offre \u00e9galement une meilleure repr\u00e9sentation visuelle de d\u00e9pendances pour les t\u00e2ches sur le m\u00eame DAG. Cependant, il n'est parfois pas pratique de mettre tous les \u00e9l\u00e9ments connexes t\u00e2ches sur le m\u00eame DAG."
            ],
            "metadata": {
                "id": "xxAonTITHkA3"
            }
        },
        {
            "cell_type": "markdown",
            "source": [
                "## 1. Cr\u00e9ation des deux dags Parents 'dag en amont'"
            ],
            "metadata": {
                "id": "xGpJhIimHoih"
            }
        },
        {
            "cell_type": "markdown",
            "source": [
                "Pour la cr\u00e9ation des deux dags parents , il faut commencer par la cr\u00e9ation des deux fichirs 'parent_dag_1.py' et 'parent_dag_2.py' dans le dossier 'dags' .\n",
                "\n"
            ],
            "metadata": {
                "id": "k55X9uXwHsIH"
            }
        },
        {
            "cell_type": "code",
            "source": [
                "\u2514\u2500\u2500\u2500dags|\u2500\u2500 parent_dag_1.py                  \n",
                "        \u2514\u2500\u2500 parent_dag_2.py"
            ],
            "metadata": {
                "id": "gTEW8Z6RHs3O"
            },
            "execution_count": null,
            "outputs": []
        },
        {
            "cell_type": "markdown",
            "source": [
                "### . parent_dag1.py\n",
                "\n",
                "Le DAG **'dag_1'** sera planifi\u00e9 pour s'ex\u00e9cuter toutes les minutes \u00e0 partir d'un moment donn\u00e9 dans le futur gr\u00e2ce \u00e0 l'argument \n",
                "schedule_interval='*/1 * * * *' .\n",
                "\n",
                "Le DAG comportera **deux t\u00e2ches** : **\"hello_python\"** et **\"goodbye_dummy\"**.\n",
                "\n",
                "* La t\u00e2che \"hello_python\" sera une **op\u00e9ration Python** 'PythonOperator' qui appellera une fonction \"greeting\" pour enregistrer un message de journalisation \u00e0 travers **python_callable=greeting**.\n",
                "\n",
                "\n",
                "```\n",
                "def greeting():\n",
                "    \"\"\"Just check that the DAG is started in the log.\"\"\"\n",
                "    import logging\n",
                "    logging.info('Bonjour le monde depuis le DAG 1')\n",
                "```\n",
                "\n",
                "\n",
                "* La t\u00e2che \"au revoir\" sera un **op\u00e9rateur fictif** 'DummyOperator' qui indiquera la fin du DAG.\n",
                "\n",
                "Enfin, la t\u00e2che \"hello_python\" sera li\u00e9e **(via l'op\u00e9rateur \">>\")** \u00e0 la t\u00e2che \"goodbye_dummy\", ce qui signifie que la t\u00e2che \"goodbye_dummy\"  ne sera ex\u00e9cut\u00e9e qu'apr\u00e8s la r\u00e9ussite de la t\u00e2che \"hello_python\"."
            ],
            "metadata": {
                "id": "RHqeDeX6HwHf"
            }
        },
        {
            "cell_type": "markdown",
            "source": [
                "### . parent_dag2.py\n",
                "\n",
                "\n",
                "Le DAG **'dag_2'** sera planifi\u00e9 pour s'ex\u00e9cuter toutes les minutes \u00e0 partir d'un moment donn\u00e9 dans le futur gr\u00e2ce \u00e0 l'argument \n",
                "schedule_interval='*/1 * * * *' .\n",
                "\n",
                "Le DAG comportera **deux t\u00e2ches** : **\"hello_python\"** et **\"goodbye_dummy\"**.\n",
                "\n",
                "* La t\u00e2che \"hello_python\" sera une **op\u00e9ration Python** 'PythonOperator' qui appellera une fonction \"greeting\" pour enregistrer un message de journalisation \u00e0 travers **python_callable=greeting**.\n",
                "\n",
                "\n",
                "```\n",
                "def greeting():\n",
                "    \"\"\"Just check that the DAG is started in the log.\"\"\"\n",
                "    import logging\n",
                "    logging.info('Bonjour le monde depuis le DAG 2')\n",
                "```\n",
                "\n",
                "\n",
                "* La t\u00e2che \"au revoir\" sera un **op\u00e9rateur fictif** 'DummyOperator' qui indiquera la fin du DAG.\n",
                "\n",
                "Enfin, la t\u00e2che \"hello_python\" sera li\u00e9e **(via l'op\u00e9rateur \">>\")** \u00e0 la t\u00e2che \"goodbye_dummy\", ce qui signifie que la t\u00e2che \"goodbye_dummy\"  ne sera ex\u00e9cut\u00e9e qu'apr\u00e8s la r\u00e9ussite de la t\u00e2che \"hello_python\"."
            ],
            "metadata": {
                "id": "4rmB62miH2OJ"
            }
        },
        {
            "cell_type": "markdown",
            "source": [
                "### 2 . Cr\u00e9ation du dag enfant 'dag en aval'\n"
            ],
            "metadata": {
                "id": "jjsSmUidH4YX"
            }
        },
        {
            "cell_type": "code",
            "source": [
                "\u2514\u2500\u2500\u2500dags|\u2500\u2500 parent_dag_1.py                  \n",
                "        \u2514\u2500\u2500 parent_dag_2.py\n",
                "        \u2514\u2500\u2500 child_master_dag.py"
            ],
            "metadata": {
                "id": "_HOqyi1FH95S"
            },
            "execution_count": null,
            "outputs": []
        },
        {
            "cell_type": "markdown",
            "source": [
                "### . child_master_dag.py\n",
                "\n",
                "Le DAG sera planifi\u00e9 pour s'ex\u00e9cuter toutes les minutes \u00e0 partir d'un moment donn\u00e9 dans le futur gr\u00e2ce \u00e0 l'argument schedule_interval='*/1 * * * *'.\n",
                "\n",
                "Le DAG comporte trois t\u00e2ches : \n",
                "* **Deux capteurs externes \"externalsensor1, externalsensor2\" et un op\u00e9rateur fictif \"goodbye_dummy\".** \n",
                "* Les capteurs externes sont utilis\u00e9s pour surveiller l'\u00e9tat des DAGs **\"dag_1\"** et **\"dag_2\"**. Ils sont cr\u00e9\u00e9s en utilisant **ExternalTaskSensor** et sont configur\u00e9s pour attendre que les deux DAGs soient termin\u00e9s **(external_task_id=None)**. Les capteurs v\u00e9rifieront \u00e9galement l'existence des t\u00e2ches cibles **(check_existence=True)** et se mettront en pause si l'attente d\u00e9passe 120 secondes **(timeout=120)**.\n",
                "\n",
                "* L'op\u00e9rateur fictif est un **DummyOperator** nomm\u00e9 **\"goodbye_master\"** et indique la fin du DAG.\n",
                "\n",
                "Enfin, **les capteurs externes** sont li\u00e9s **(via l'op\u00e9rateur >>)** \u00e0 l'op\u00e9rateur fictif, ce qui signifie que l'op\u00e9rateur fictif ne sera ex\u00e9cut\u00e9 que lorsque les deux capteurs auront r\u00e9ussi \u00e0 surveiller l'\u00e9tat des deux DAGs.\n",
                "</br>\n",
                "\n",
                "Le DAG \"Dag_master\" servira ainsi \u00e0 d\u00e9clencher les DAGs \"dag_1\" et \"dag_2\" et \u00e0 effectuer des actions si les deux DAGs r\u00e9ussissent."
            ],
            "metadata": {
                "id": "qsxy_qaGH8KY"
            }
        }
    ]
}