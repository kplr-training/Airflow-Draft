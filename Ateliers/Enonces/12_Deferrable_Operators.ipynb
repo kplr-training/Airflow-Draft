{
    "nbformat": 4,
    "nbformat_minor": 0,
    "metadata": {
        "kernelspec": {
            "name": "python3",
            "display_name": "Python 3"
        },
        "language_info": {
            "name": "python"
        }
    },
    "cells": [
        {
            "cell_type": "markdown",
            "metadata": {
                "id": "view-in-github",
                "colab_type": "text"
            },
            "source": [
                "<a href=\"https://colab.research.google.com/github/kplr-training/Airflow/blob/main/Ateliers/Enonces/12_Deferrable_Operators.ipynb\" target=\"_blank\"><img src=\"https://colab.research.google.com/assets/colab-badge.svg\" alt=\"Open In Colab\"/></a>"
            ]
        },
        {
            "cell_type": "markdown",
            "source": [
                "# Deferrable operators :  Cr\u00e9ation de DAGs planifi\u00e9s en utilisant Async Operator "
            ],
            "metadata": {
                "id": "CDGnzjiSzhEV"
            }
        },
        {
            "cell_type": "markdown",
            "source": [
                "![deff](https://user-images.githubusercontent.com/123757632/232047531-5cb354b1-ce74-4a95-af34-009febf1fe20.png)"
            ],
            "metadata": {
                "id": "3b9i2dNlzh2X"
            }
        },
        {
            "cell_type": "markdown",
            "source": [
                "D\u00e9finir deux DAGs qui seront planifi\u00e9es pour s'ex\u00e9cuter quotidiennement \u00e0 partir d'une date pr\u00e9cise .\n",
                "\n",
                "- Dag 1 : Le DAG utilise un capteur de date et d'heure appel\u00e9 \"DateTimeSensor\", qui attend que la cible de temps soit atteinte avant de passer \u00e0 la t\u00e2che suivante. La cible de temps est d\u00e9finie comme \"macros.datetime.utcnow() + macros.timedelta(minutes=10)\", qui correspond \u00e0 l'heure actuelle plus 10 minutes.\n",
                "\n",
                "- Dag 2 : Le DAG utilise un capteur de date et d'heure asynchrone appel\u00e9 \"DateTimeSensorAsync\", qui attend que la cible de temps soit atteinte avant de passer \u00e0 la t\u00e2che suivante. La cible de temps est d\u00e9finie comme \"macros.datetime.utcnow() + macros.timedelta(minutes=10)\", qui correspond \u00e0 l'heure actuelle plus 10 minutes.\n",
                "\n",
                "le but de cet atelier est de conclure la diff\u00e9rence entre  \"DateTimeSensor\" et \"DateTimeSensorAsync\"."
            ],
            "metadata": {
                "id": "x93AwTLe0OZs"
            }
        }
    ]
}