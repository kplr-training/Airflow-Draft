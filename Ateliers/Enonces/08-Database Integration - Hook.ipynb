{
    "nbformat": 4,
    "nbformat_minor": 0,
    "metadata": {
        "kernelspec": {
            "name": "python3",
            "display_name": "Python 3"
        },
        "language_info": {
            "name": "python"
        }
    },
    "cells": [
        {
            "cell_type": "markdown",
            "metadata": {
                "id": "view-in-github",
                "colab_type": "text"
            },
            "source": [
                "<a href=\"https://colab.research.google.com/github/kplr-training/Airflow/blob/main/Ateliers/Enonc%C3%A9s/08-Database%20Integration%20-%20Hook.ipynb\" target=\"_blank\"><img src=\"https://colab.research.google.com/assets/colab-badge.svg\" alt=\"Open In Colab\"/></a>"
            ]
        },
        {
            "cell_type": "markdown",
            "source": [
                "# Database Integration\u202f: Utilisation de PostgresHook pour exploiter les connexions et ex\u00e9cuter des requ\u00eates "
            ],
            "metadata": {
                "id": "o06SipZRMQx5"
            }
        },
        {
            "cell_type": "markdown",
            "source": [
                "![postgres_hook](https://user-images.githubusercontent.com/123757632/231869429-b98fcf0a-4249-4a02-9a52-c48e7ba1c85a.png)\n",
                "\n",
                "D\u00e9finir un DAG (Directed Acyclic Graph) Airflow qui sera planifi\u00e9e pour s'ex\u00e9cuter quotidiennement \u00e0 partir d'une date pr\u00e9cise . Le DAG comprendra une fonctions \"run_query\":\n",
                "\n",
                "- La fonction run_query() ex\u00e9cute une requ\u00eate SQL pour r\u00e9cup\u00e9rer tous les enregistrements de la table **my_test_table** \u00e0 partir d'une base de donn\u00e9es PostgreSQL. Elle utilise la biblioth\u00e8que **PostgresHook** pour cr\u00e9er une connexion \u00e0 la base de donn\u00e9es et appelle la m\u00e9thode **get_records(query)** pour ex\u00e9cuter la requ\u00eate SQL. Enfin, elle it\u00e8re sur les lignes retourn\u00e9es et les affiche \u00e0 l'aide de la fonction print().\n",
                "\n",
                "Cr\u00e9e un op\u00e9rateur Python appel\u00e9 task qui ex\u00e9cutera la fonction run_query() lorsqu'il sera appel\u00e9 dans le DAG. \n"
            ],
            "metadata": {
                "id": "3jdv7YybMdIY"
            }
        }
    ]
}