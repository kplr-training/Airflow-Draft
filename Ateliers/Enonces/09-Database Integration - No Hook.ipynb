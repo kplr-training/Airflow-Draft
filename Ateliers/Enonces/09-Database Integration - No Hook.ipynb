{
    "nbformat": 4,
    "nbformat_minor": 0,
    "metadata": {
        "kernelspec": {
            "name": "python3",
            "display_name": "Python 3"
        },
        "language_info": {
            "name": "python"
        }
    },
    "cells": [
        {
            "cell_type": "markdown",
            "metadata": {
                "id": "view-in-github",
                "colab_type": "text"
            },
            "source": [
                "<a href=\"https://colab.research.google.com/github/kplr-training/Airflow/blob/main/Ateliers/Enonces/09-Database%20Integration%20-%20No%20Hook.ipynb\" target=\"_blank\"><img src=\"https://colab.research.google.com/assets/colab-badge.svg\" alt=\"Open In Colab\"/></a>"
            ]
        },
        {
            "cell_type": "markdown",
            "source": [
                "# Database Integration\u202f: DAGs pour \u00e9crire et lire des donn\u00e9es dans PostgreSQL sans utilisation des hooks "
            ],
            "metadata": {
                "id": "JVENncXer3LZ"
            }
        },
        {
            "cell_type": "markdown",
            "source": [
                "![pgaware_no hooks](https://user-images.githubusercontent.com/123757632/231477957-4ca75320-1980-4ca1-bf44-452400f88e76.png)"
            ],
            "metadata": {
                "id": "8X8iN5hLuTnF"
            }
        },
        {
            "cell_type": "markdown",
            "source": [
                "D\u00e9finir deux Dags pour \u00e9crire et lire des donn\u00e9es depuis une table PostgreSQ .\n"
            ],
            "metadata": {
                "id": "Ksr6ZSQcuWZr"
            }
        },
        {
            "cell_type": "markdown",
            "source": [
                "-  DAG 1 : \n",
                "\n",
                "Contient une t\u00e2che nomm\u00e9e \"write_task\". Cette t\u00e2che utilise la librairie psycopg2 pour \u00e9crire des donn\u00e9es dans une base de donn\u00e9es PostgreSQL.\n",
                "\n",
                "La t\u00e2che \"write_task\" est ex\u00e9cut\u00e9e par un objet PythonOperator qui appelle la fonction \"write_to_postgres\".Cette fonction effectue les op\u00e9rations suivantes :\n",
                "\n",
                " - Se connecter \u00e0 la base de donn\u00e9es PostgreSQL en utilisant les informations de connexion fournies\n",
                "- Cr\u00e9er une table nomm\u00e9e 'my_test_table' si elle n'existe pas d\u00e9j\u00e0\n",
                "- Ins\u00e9rer une ligne de donn\u00e9es avec les valeurs \"value1\" et \"value2\"\n",
                "- Fermer la connexion \u00e0 la base de donn\u00e9es\n",
                "\n",
                "L'objet PythonOperator a \u00e9galement un argument \"outlets\" qui est une liste contenant un objet Dataset. L'objet Dataset est utilis\u00e9 pour sp\u00e9cifier la connexion \u00e0 la base de donn\u00e9es PostgreSQL, en fournissant l'URL de la base de donn\u00e9es et le nom de la table.\n",
                "\n",
                "- DAG 2 :\n",
                "\n",
                "Contient une t\u00e2che nomm\u00e9e \"read_task\" qui est un op\u00e9rateur PythonOperator qui appelle la fonction 'read_from_postgres'. Cette fonction effectue les op\u00e9rations suivantes :\n",
                "\n",
                "- Se connecter \u00e0 la base de donn\u00e9es PostgreSQL en utilisant les informations de connexion fournies\n",
                "- S\u00e9lectionner toutes les lignes de la table 'my_test_table'\n",
                "- Afficher chaque ligne de donn\u00e9es r\u00e9cup\u00e9r\u00e9e dans la console\n",
                "- Fermer la connexion \u00e0 la base de donn\u00e9es\n",
                "\n",
                "En r\u00e9sum\u00e9, le premier DAG est responsable d'\u00e9crire une ligne de donn\u00e9es dans une table PostgreSQL et le deuxi\u00e8me DAG est responsable de lire toutes les donn\u00e9es de cette table PostgreSQL."
            ],
            "metadata": {
                "id": "MmW6tsARwsTb"
            }
        }
    ]
}